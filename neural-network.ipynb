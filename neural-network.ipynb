{
 "cells": [
  {
   "cell_type": "code",
   "execution_count": null,
   "metadata": {
    "trusted": true
   },
   "outputs": [],
   "source": [
    "from sklearn.preprocessing import MinMaxScaler\n",
    "from sklearn.metrics import mean_squared_error, r2_score\n",
    "from sklearn.model_selection import train_test_split\n",
    "\n",
    "\n",
    "from tensorflow.keras.models import Sequential, load_model\n",
    "from tensorflow.keras.callbacks import EarlyStopping, ModelCheckpoint\n",
    "from tensorflow.keras.layers import Dense, Input, Dropout, BatchNormalization\n",
    "\n",
    "\n",
    "import pandas as pd\n",
    "import numpy as np\n",
    "\n",
    "import pickle"
   ]
  },
  {
   "cell_type": "code",
   "execution_count": null,
   "metadata": {
    "trusted": true
   },
   "outputs": [],
   "source": [
    "features_columns = [\n",
    "    \"PRESSAO ATMOSFERICA AO NIVEL DA ESTACAO, HORARIA (mB)\",\n",
    "    \"RADIACAO GLOBAL (KJ/m²)\",\n",
    "    \"TEMPERATURA DO AR - BULBO SECO, HORARIA (°C)\",\n",
    "    \"TEMPERATURA DO PONTO DE ORVALHO (°C)\",\n",
    "    \"UMIDADE RELATIVA DO AR, HORARIA (%)\",\n",
    "    \"VENTO, VELOCIDADE HORARIA (m/s)\"\n",
    "]\n",
    "\n",
    "target_column = [\"PRECIPITAÇÃO TOTAL, HORÁRIO (mm)\"]"
   ]
  },
  {
   "cell_type": "code",
   "execution_count": null,
   "metadata": {
    "trusted": true
   },
   "outputs": [],
   "source": [
    "X = pd.read_csv(\"/kaggle/input/training-dataset-random-forest/step_5_df.csv\", usecols=features_columns)\n",
    "y = pd.read_csv(\"/kaggle/input/training-dataset-random-forest/step_5_df.csv\", usecols=target_column)"
   ]
  },
  {
   "cell_type": "code",
   "execution_count": null,
   "metadata": {
    "trusted": true
   },
   "outputs": [],
   "source": [
    "X_train, X_test, y_train, y_test = train_test_split(X, y, test_size=0.25, random_state=42)\n"
   ]
  },
  {
   "cell_type": "code",
   "execution_count": null,
   "metadata": {
    "_cell_guid": "b1076dfc-b9ad-4769-8c92-a6c4dae69d19",
    "_uuid": "8f2839f25d086af736a60e9eeb907d3b93b6e0e5",
    "trusted": true
   },
   "outputs": [],
   "source": [
    "scaler_X = MinMaxScaler()\n",
    "scaler_y = MinMaxScaler()\n",
    "\n",
    "X_train_scaled = scaler_X.fit_transform(X_train)\n",
    "X_test_scaled = scaler_X.transform(X_test)\n",
    "\n",
    "y_train_scaled = scaler_y.fit_transform(y_train.to_numpy().reshape(-1, 1))\n",
    "y_test_scaled = scaler_y.transform(y_test.to_numpy().reshape(-1, 1))"
   ]
  },
  {
   "cell_type": "code",
   "execution_count": null,
   "metadata": {
    "trusted": true
   },
   "outputs": [],
   "source": [
    "X, y, X_train, X_test, y_train, y_test = 0, 0, 0, 0, 0, 0"
   ]
  },
  {
   "cell_type": "code",
   "execution_count": null,
   "metadata": {
    "trusted": true
   },
   "outputs": [],
   "source": [
    "model = Sequential([\n",
    "    Input(shape=(6,)),  # Define explicitamente a forma da entrada\n",
    "    Dense(64, activation='relu'),\n",
    "    Dropout(0.2),  # Apaga 20% dos neurônios durante o treinamento\n",
    "    BatchNormalization(),\n",
    "    Dense(32, activation='relu'),\n",
    "    Dropout(0.2),\n",
    "    BatchNormalization(),\n",
    "    Dense(16, activation='relu'),\n",
    "    Dense(1, activation='linear')\n",
    "])\n",
    "\n",
    "checkpoint = ModelCheckpoint(\n",
    "    filepath='/kaggle/working/modelo_checkpoint.keras',  # Nome do arquivo a ser salvo\n",
    "    monitor='val_loss',               # Métrica a ser monitorada\n",
    "    save_best_only=False,             # Salvar a cada época (não apenas o melhor)\n",
    "    save_weights_only=False,          # Salvar modelo completo (estrutura + pesos)\n",
    "    verbose=1                         # Exibir informações no terminal\n",
    ")"
   ]
  },
  {
   "cell_type": "code",
   "execution_count": null,
   "metadata": {
    "trusted": true
   },
   "outputs": [],
   "source": [
    "try:\n",
    "    model = load_model('/kaggle/working/modelo_checkpoint.keras')    \n",
    "except Exception as e:\n",
    "    print(e)\n"
   ]
  },
  {
   "cell_type": "code",
   "execution_count": 14,
   "metadata": {
    "execution": {
     "iopub.status.idle": "2025-01-14T18:26:09.176989Z",
     "shell.execute_reply": "2025-01-14T18:26:09.175551Z",
     "shell.execute_reply.started": "2025-01-14T17:54:55.310611Z"
    },
    "trusted": true
   },
   "outputs": [
    {
     "name": "stdout",
     "output_type": "stream",
     "text": [
      "\u001b[1m149718/149730\u001b[0m \u001b[32m━━━━━━━━━━━━━━━━━━━\u001b[0m\u001b[37m━\u001b[0m \u001b[1m0s\u001b[0m 4ms/step - loss: 8.6526e-05 - mae: 0.0026 - mse: 8.6526e-05\n",
      "Epoch 2: saving model to /kaggle/working/modelo_checkpoint.keras\n",
      "\u001b[1m149730/149730\u001b[0m \u001b[32m━━━━━━━━━━━━━━━━━━━━\u001b[0m\u001b[37m\u001b[0m \u001b[1m613s\u001b[0m 4ms/step - loss: 8.6526e-05 - mae: 0.0026 - mse: 8.6526e-05 - val_loss: 8.8071e-05 - val_mae: 0.0019 - val_mse: 8.8071e-05\n",
      "Epoch 3/20\n",
      "\u001b[1m149723/149730\u001b[0m \u001b[32m━━━━━━━━━━━━━━━━━━━\u001b[0m\u001b[37m━\u001b[0m \u001b[1m0s\u001b[0m 4ms/step - loss: 8.5944e-05 - mae: 0.0026 - mse: 8.5944e-05\n",
      "Epoch 3: saving model to /kaggle/working/modelo_checkpoint.keras\n",
      "\u001b[1m149730/149730\u001b[0m \u001b[32m━━━━━━━━━━━━━━━━━━━━\u001b[0m\u001b[37m\u001b[0m \u001b[1m641s\u001b[0m 4ms/step - loss: 8.5944e-05 - mae: 0.0026 - mse: 8.5944e-05 - val_loss: 8.7263e-05 - val_mae: 0.0020 - val_mse: 8.7263e-05\n"
     ]
    }
   ],
   "source": [
    "model.compile(optimizer='adam', loss='mse', metrics=['mse', 'mae'])\n",
    "\n",
    "early_stopping = EarlyStopping(monitor='val_mse', patience=2, restore_best_weights=True)\n",
    "history = model.fit(X_train_scaled, y_train_scaled, epochs=20, batch_size=128, validation_split=0.2, callbacks=[early_stopping, checkpoint])\n"
   ]
  },
  {
   "cell_type": "code",
   "execution_count": null,
   "metadata": {
    "trusted": true
   },
   "outputs": [],
   "source": [
    "with open('historico.pkl', 'wb') as f:\n",
    "    pickle.dump(history.history, f)"
   ]
  },
  {
   "cell_type": "code",
   "execution_count": 15,
   "metadata": {
    "execution": {
     "iopub.execute_input": "2025-01-14T18:31:01.952197Z",
     "iopub.status.busy": "2025-01-14T18:31:01.951238Z",
     "iopub.status.idle": "2025-01-14T18:48:58.262087Z",
     "shell.execute_reply": "2025-01-14T18:48:58.260346Z",
     "shell.execute_reply.started": "2025-01-14T18:31:01.952146Z"
    },
    "trusted": true
   },
   "outputs": [
    {
     "name": "stdout",
     "output_type": "stream",
     "text": [
      "\u001b[1m499098/499098\u001b[0m \u001b[32m━━━━━━━━━━━━━━━━━━━━\u001b[0m\u001b[37m\u001b[0m \u001b[1m751s\u001b[0m 2ms/step\n",
      "MSE: 1.64\n",
      "R²: 0.05\n"
     ]
    }
   ],
   "source": [
    "y_pred_scaled = model.predict(X_test_scaled)\n",
    "\n",
    "y_pred = scaler_y.inverse_transform(y_pred_scaled)\n",
    "y_test = scaler_y.inverse_transform(y_test_scaled)\n",
    "\n",
    "mse = mean_squared_error(y_test, y_pred)\n",
    "r2 = r2_score(y_test, y_pred)\n",
    "\n",
    "print(f\"MSE: {mse:.2f}\")\n",
    "print(f\"R²: {r2:.2f}\")"
   ]
  },
  {
   "cell_type": "code",
   "execution_count": null,
   "metadata": {
    "trusted": true
   },
   "outputs": [],
   "source": []
  }
 ],
 "metadata": {
  "kaggle": {
   "accelerator": "none",
   "dataSources": [
    {
     "datasetId": 6475553,
     "sourceId": 10462803,
     "sourceType": "datasetVersion"
    }
   ],
   "dockerImageVersionId": 30822,
   "isGpuEnabled": false,
   "isInternetEnabled": false,
   "language": "python",
   "sourceType": "notebook"
  },
  "kernelspec": {
   "display_name": "Python 3",
   "language": "python",
   "name": "python3"
  },
  "language_info": {
   "codemirror_mode": {
    "name": "ipython",
    "version": 3
   },
   "file_extension": ".py",
   "mimetype": "text/x-python",
   "name": "python",
   "nbconvert_exporter": "python",
   "pygments_lexer": "ipython3",
   "version": "3.10.12"
  }
 },
 "nbformat": 4,
 "nbformat_minor": 4
}
