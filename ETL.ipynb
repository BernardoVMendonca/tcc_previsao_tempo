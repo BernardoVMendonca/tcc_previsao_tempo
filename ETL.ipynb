{
 "cells": [
  {
   "cell_type": "markdown",
   "metadata": {},
   "source": [
    "# Bibliotecas"
   ]
  },
  {
   "cell_type": "code",
   "execution_count": 2,
   "metadata": {},
   "outputs": [],
   "source": [
    "import pandas as pd\n",
    "from charset_normalizer import detect\n",
    "import os\n",
    "import numpy as np\n",
    "import seaborn as sns\n",
    "import matplotlib.pyplot as plt\n",
    "from scipy.stats import pearsonr\n",
    "import gc\n",
    "import plotly.express as px\n"
   ]
  },
  {
   "cell_type": "markdown",
   "metadata": {},
   "source": [
    "# Lendo os arquivos de dados\n",
    "\n",
    "A seguir, o código lerá todos os arquivos de dados (*.csv*) extraídos do __*INMET*__ e adicionará os dados à um Dataframe único (*df*)"
   ]
  },
  {
   "cell_type": "code",
   "execution_count": 67,
   "metadata": {},
   "outputs": [],
   "source": [
    "data_path = './data/'\n",
    "results_path = './output/results/'\n",
    "\n",
    "files = os.listdir(data_path)"
   ]
  },
  {
   "cell_type": "code",
   "execution_count": 65,
   "metadata": {},
   "outputs": [
    {
     "data": {
      "text/plain": [
       "[2000,\n",
       " 2001,\n",
       " 2002,\n",
       " 2003,\n",
       " 2004,\n",
       " 2005,\n",
       " 2006,\n",
       " 2007,\n",
       " 2008,\n",
       " 2009,\n",
       " 2010,\n",
       " 2011,\n",
       " 2012,\n",
       " 2013,\n",
       " 2014,\n",
       " 2015,\n",
       " 2016,\n",
       " 2017,\n",
       " 2018,\n",
       " 2019,\n",
       " 2020,\n",
       " 2021,\n",
       " 2022,\n",
       " 2023,\n",
       " 2024]"
      ]
     },
     "execution_count": 65,
     "metadata": {},
     "output_type": "execute_result"
    }
   ],
   "source": [
    "columns = [\n",
    "    \"DATA (YYYY-MM-DD)\",\n",
    "    \"HORA (UTC)\",\n",
    "    \"PRECIPITAÇÃO TOTAL, HORÁRIO (mm)\",\n",
    "    \"PRESSAO ATMOSFERICA AO NIVEL DA ESTACAO, HORARIA (mB)\",\n",
    "    \"PRESSÃO ATMOSFERICA MAX.NA HORA ANT. (AUT) (mB)\",\n",
    "    \"PRESSÃO ATMOSFERICA MIN. NA HORA ANT. (AUT) (mB)\",\n",
    "    \"RADIACAO GLOBAL (KJ/m²)\",\n",
    "    \"TEMPERATURA DO AR - BULBO SECO, HORARIA (°C)\",\n",
    "    \"TEMPERATURA DO PONTO DE ORVALHO (°C)\",\n",
    "    \"TEMPERATURA MÁXIMA NA HORA ANT. (AUT) (°C)\",\n",
    "    \"TEMPERATURA MÍNIMA NA HORA ANT. (AUT) (°C)\",\n",
    "    \"TEMPERATURA ORVALHO MAX. NA HORA ANT. (AUT) (°C)\",\n",
    "    \"TEMPERATURA ORVALHO MIN. NA HORA ANT. (AUT) (°C)\",\n",
    "    \"UMIDADE REL. MAX. NA HORA ANT. (AUT) (%)\",\n",
    "    \"UMIDADE REL. MIN. NA HORA ANT. (AUT) (%)\",\n",
    "    \"UMIDADE RELATIVA DO AR, HORARIA (%)\",\n",
    "    \"VENTO, DIREÇÃO HORARIA (gr) (° (gr))\",\n",
    "    \"VENTO, RAJADA MAXIMA (m/s)\",\n",
    "    \"VENTO, VELOCIDADE HORARIA (m/s)\"\n",
    "]\n",
    "\n",
    "ages_list = [i for i in range(2000, 2025, 1)]\n",
    "\n",
    "ages_list\n"
   ]
  },
  {
   "cell_type": "code",
   "execution_count": 75,
   "metadata": {},
   "outputs": [
    {
     "name": "stdout",
     "output_type": "stream",
     "text": [
      "Total size of the files: 6785.95 MB\n",
      "Age: 2000, Size: 2.38 MB\n",
      "Age: 2001, Size: 6.37 MB\n",
      "Age: 2002, Size: 15.15 MB\n",
      "Age: 2003, Size: 43.19 MB\n",
      "Age: 2004, Size: 47.32 MB\n",
      "Age: 2005, Size: 52.67 MB\n",
      "Age: 2006, Size: 70.49 MB\n",
      "Age: 2007, Size: 162.95 MB\n",
      "Age: 2008, Size: 282.28 MB\n",
      "Age: 2009, Size: 337.64 MB\n",
      "Age: 2010, Size: 348.34 MB\n",
      "Age: 2011, Size: 358.49 MB\n",
      "Age: 2012, Size: 363.25 MB\n",
      "Age: 2013, Size: 370.25 MB\n",
      "Age: 2014, Size: 375.85 MB\n",
      "Age: 2015, Size: 382.24 MB\n",
      "Age: 2016, Size: 398.35 MB\n",
      "Age: 2017, Size: 437.01 MB\n",
      "Age: 2018, Size: 469.10 MB\n",
      "Age: 2019, Size: 425.90 MB\n",
      "Age: 2020, Size: 393.46 MB\n",
      "Age: 2021, Size: 337.44 MB\n",
      "Age: 2022, Size: 354.67 MB\n",
      "Age: 2023, Size: 396.31 MB\n",
      "Age: 2024, Size: 354.84 MB\n"
     ]
    }
   ],
   "source": [
    "# Repository size\n",
    "age_size_list = []\n",
    "\n",
    "total_size = 0\n",
    "\n",
    "for age in ages_list:\n",
    "    files = os.listdir(data_path + str(age))\n",
    "    read_size = 0\n",
    "    for file in files:\n",
    "        read_size += os.path.getsize(data_path + str(age) + \"/\" + file) / (1024 ** 2)\n",
    "    age_size_list.append({age: read_size})\n",
    "    total_size += read_size\n",
    "\n",
    "print(f\"Total size of the files: {total_size:.2f} MB\")\n",
    "\n",
    "for age_size in age_size_list:\n",
    "    age = list(age_size.keys())[0]\n",
    "    size = age_size[age]\n",
    "    print(f\"Age: {age}, Size: {size:.2f} MB\")\n"
   ]
  },
  {
   "cell_type": "code",
   "execution_count": 6,
   "metadata": {},
   "outputs": [],
   "source": [
    "def generate_csv(ages_list, data_path, columns):\n",
    "\n",
    "    error_files = []\n",
    "    read_size = 0\n",
    "    df_list = []\n",
    "\n",
    "    for age in ages_list:\n",
    "        read_size = 0\n",
    "        files = os.listdir(data_path + str(age))\n",
    "        for file in files:\n",
    "            try:\n",
    "                # Ler o arquivo atual\n",
    "                df_aux = pd.read_csv(\n",
    "                    data_path + str(age) + \"/\" + file,\n",
    "                    skiprows=8,\n",
    "                    sep=';',\n",
    "                    usecols=columns,\n",
    "                    encoding=\"Windows-1252\"\n",
    "                )\n",
    "\n",
    "                df_list.append(df_aux)\n",
    "\n",
    "                # Atualizar tamanho total lido\n",
    "                read_size += os.path.getsize(data_path + str(age) + \"/\" + file)\n",
    "\n",
    "            except Exception as e:\n",
    "                # print(f\"Error while reading {file} - {e}\")\n",
    "                error_files.append({file: str(e)})\n",
    "        \n",
    "        print(f'============== {age} =============\\nFiles Count: {len(files)}\\nRead Size: {read_size / (1024**2):.2f} MB')\n",
    "        print(f\"\\nError files: {len(error_files)}\")\n",
    "\n",
    "        try:\n",
    "            pd.concat(df_list, ignore_index=True).to_csv(f\"./output/{age}/\" + str(age)  +\".csv\", index=False)\n",
    "            df_list.clear()\n",
    "        except:\n",
    "            print(\"No object to concatenate\")\n",
    "        \n",
    "        error_output = open(f\"./output/{age}/error_log.txt\", \"w\")\n",
    "        error_output.write(str(error_files))\n",
    "        error_output.close()\n",
    "\n",
    "        error_files.clear()\n",
    "\n"
   ]
  },
  {
   "cell_type": "code",
   "execution_count": 11,
   "metadata": {},
   "outputs": [
    {
     "name": "stdout",
     "output_type": "stream",
     "text": [
      "============== 2019 =============\n",
      "Files Count: 589\n",
      "Read Size: 425.90 MB\n",
      "\n",
      "Error files: 0\n"
     ]
    }
   ],
   "source": [
    "generate_csv(ages_list, data_path, columns)"
   ]
  },
  {
   "cell_type": "code",
   "execution_count": 10,
   "metadata": {},
   "outputs": [],
   "source": [
    "# Os arquivos de 2020 para frente possuem uma diferença no nome do campo relacionado à radiação global.\n",
    "# Característica que gerou erro na leitura dos arquivos.\n",
    "# Como são muitos arquivos, é inviável trocar na mão, um por um, dessa forma, executarei o código anterior\n",
    "# com estes novos parâsmetros (utilizados apenas para gerar os arquivos de dados necessários)\n",
    "\n",
    "columns = [\n",
    "    \"Data\",\n",
    "    \"Hora UTC\",\n",
    "    \"PRECIPITAÇÃO TOTAL, HORÁRIO (mm)\",\n",
    "    \"PRESSAO ATMOSFERICA AO NIVEL DA ESTACAO, HORARIA (mB)\",\n",
    "    \"PRESSÃO ATMOSFERICA MAX.NA HORA ANT. (AUT) (mB)\",\n",
    "    \"PRESSÃO ATMOSFERICA MIN. NA HORA ANT. (AUT) (mB)\",\n",
    "    \"RADIACAO GLOBAL (Kj/m²)\",\n",
    "    \"TEMPERATURA DO AR - BULBO SECO, HORARIA (°C)\",\n",
    "    \"TEMPERATURA DO PONTO DE ORVALHO (°C)\",\n",
    "    \"TEMPERATURA MÁXIMA NA HORA ANT. (AUT) (°C)\",\n",
    "    \"TEMPERATURA MÍNIMA NA HORA ANT. (AUT) (°C)\",\n",
    "    \"TEMPERATURA ORVALHO MAX. NA HORA ANT. (AUT) (°C)\",\n",
    "    \"TEMPERATURA ORVALHO MIN. NA HORA ANT. (AUT) (°C)\",\n",
    "    \"UMIDADE REL. MAX. NA HORA ANT. (AUT) (%)\",\n",
    "    \"UMIDADE REL. MIN. NA HORA ANT. (AUT) (%)\",\n",
    "    \"UMIDADE RELATIVA DO AR, HORARIA (%)\",\n",
    "    \"VENTO, DIREÇÃO HORARIA (gr) (° (gr))\",\n",
    "    \"VENTO, RAJADA MAXIMA (m/s)\",\n",
    "    \"VENTO, VELOCIDADE HORARIA (m/s)\"\n",
    "]\n",
    "\n",
    "ages_list = [i for i in range(2019, 2025, 1)]\n"
   ]
  },
  {
   "cell_type": "code",
   "execution_count": 35,
   "metadata": {},
   "outputs": [
    {
     "name": "stdout",
     "output_type": "stream",
     "text": [
      "============== 2020 =============\n",
      "Files Count: 589\n",
      "Read Size: 393.46 MB\n",
      "\n",
      "Error files: 0\n",
      "============== 2021 =============\n",
      "Files Count: 588\n",
      "Read Size: 337.44 MB\n",
      "\n",
      "Error files: 0\n",
      "============== 2022 =============\n",
      "Files Count: 567\n",
      "Read Size: 354.67 MB\n",
      "\n",
      "Error files: 0\n",
      "============== 2023 =============\n",
      "Files Count: 567\n",
      "Read Size: 396.31 MB\n",
      "\n",
      "Error files: 0\n",
      "============== 2024 =============\n",
      "Files Count: 565\n",
      "Read Size: 354.84 MB\n",
      "\n",
      "Error files: 0\n"
     ]
    }
   ],
   "source": [
    "generate_csv(ages_list, data_path, columns)"
   ]
  },
  {
   "cell_type": "code",
   "execution_count": 30,
   "metadata": {},
   "outputs": [],
   "source": [
    "\n",
    "required_columns = [\n",
    "    \"PRECIPITAÇÃO TOTAL, HORÁRIO (mm)\",\n",
    "    \"PRESSAO ATMOSFERICA AO NIVEL DA ESTACAO, HORARIA (mB)\",\n",
    "    \"RADIACAO GLOBAL (KJ/m²)\",\n",
    "    \"TEMPERATURA DO AR - BULBO SECO, HORARIA (°C)\",\n",
    "    \"TEMPERATURA DO PONTO DE ORVALHO (°C)\",\n",
    "    \"UMIDADE RELATIVA DO AR, HORARIA (%)\",\n",
    "    \"VENTO, VELOCIDADE HORARIA (m/s)\"\n",
    "]"
   ]
  },
  {
   "cell_type": "code",
   "execution_count": 13,
   "metadata": {},
   "outputs": [
    {
     "name": "stdout",
     "output_type": "stream",
     "text": [
      "Reading: 2000.csv\n",
      "Reading: 2001.csv\n",
      "Reading: 2002.csv\n"
     ]
    },
    {
     "name": "stderr",
     "output_type": "stream",
     "text": [
      "C:\\Users\\bemen\\AppData\\Local\\Temp\\ipykernel_2712\\2662699100.py:6: DtypeWarning: Columns (6) have mixed types. Specify dtype option on import or set low_memory=False.\n",
      "  df_aux = pd.read_csv(\"./output/\" + str(age) + \"/\" + str(age) + \".csv\", usecols=required_columns, encoding=\"utf-8\")\n"
     ]
    },
    {
     "name": "stdout",
     "output_type": "stream",
     "text": [
      "Reading: 2003.csv\n",
      "Reading: 2004.csv\n"
     ]
    },
    {
     "name": "stderr",
     "output_type": "stream",
     "text": [
      "C:\\Users\\bemen\\AppData\\Local\\Temp\\ipykernel_2712\\2662699100.py:6: DtypeWarning: Columns (6,15) have mixed types. Specify dtype option on import or set low_memory=False.\n",
      "  df_aux = pd.read_csv(\"./output/\" + str(age) + \"/\" + str(age) + \".csv\", usecols=required_columns, encoding=\"utf-8\")\n"
     ]
    },
    {
     "name": "stdout",
     "output_type": "stream",
     "text": [
      "Reading: 2005.csv\n"
     ]
    },
    {
     "name": "stderr",
     "output_type": "stream",
     "text": [
      "C:\\Users\\bemen\\AppData\\Local\\Temp\\ipykernel_2712\\2662699100.py:6: DtypeWarning: Columns (6) have mixed types. Specify dtype option on import or set low_memory=False.\n",
      "  df_aux = pd.read_csv(\"./output/\" + str(age) + \"/\" + str(age) + \".csv\", usecols=required_columns, encoding=\"utf-8\")\n"
     ]
    },
    {
     "name": "stdout",
     "output_type": "stream",
     "text": [
      "Reading: 2006.csv\n"
     ]
    },
    {
     "name": "stderr",
     "output_type": "stream",
     "text": [
      "C:\\Users\\bemen\\AppData\\Local\\Temp\\ipykernel_2712\\2662699100.py:6: DtypeWarning: Columns (6) have mixed types. Specify dtype option on import or set low_memory=False.\n",
      "  df_aux = pd.read_csv(\"./output/\" + str(age) + \"/\" + str(age) + \".csv\", usecols=required_columns, encoding=\"utf-8\")\n"
     ]
    },
    {
     "name": "stdout",
     "output_type": "stream",
     "text": [
      "Reading: 2007.csv\n",
      "Reading: 2008.csv\n",
      "Reading: 2009.csv\n",
      "Reading: 2010.csv\n"
     ]
    },
    {
     "name": "stderr",
     "output_type": "stream",
     "text": [
      "C:\\Users\\bemen\\AppData\\Local\\Temp\\ipykernel_2712\\2662699100.py:6: DtypeWarning: Columns (6) have mixed types. Specify dtype option on import or set low_memory=False.\n",
      "  df_aux = pd.read_csv(\"./output/\" + str(age) + \"/\" + str(age) + \".csv\", usecols=required_columns, encoding=\"utf-8\")\n"
     ]
    },
    {
     "name": "stdout",
     "output_type": "stream",
     "text": [
      "Reading: 2011.csv\n",
      "Reading: 2012.csv\n",
      "Reading: 2013.csv\n",
      "Reading: 2014.csv\n",
      "Reading: 2015.csv\n",
      "Reading: 2016.csv\n",
      "Reading: 2017.csv\n"
     ]
    },
    {
     "name": "stderr",
     "output_type": "stream",
     "text": [
      "C:\\Users\\bemen\\AppData\\Local\\Temp\\ipykernel_2712\\2662699100.py:6: DtypeWarning: Columns (2,6,18) have mixed types. Specify dtype option on import or set low_memory=False.\n",
      "  df_aux = pd.read_csv(\"./output/\" + str(age) + \"/\" + str(age) + \".csv\", usecols=required_columns, encoding=\"utf-8\")\n"
     ]
    },
    {
     "name": "stdout",
     "output_type": "stream",
     "text": [
      "Reading: 2018.csv\n"
     ]
    },
    {
     "name": "stderr",
     "output_type": "stream",
     "text": [
      "C:\\Users\\bemen\\AppData\\Local\\Temp\\ipykernel_2712\\2662699100.py:6: DtypeWarning: Columns (2,6,18) have mixed types. Specify dtype option on import or set low_memory=False.\n",
      "  df_aux = pd.read_csv(\"./output/\" + str(age) + \"/\" + str(age) + \".csv\", usecols=required_columns, encoding=\"utf-8\")\n"
     ]
    },
    {
     "name": "stdout",
     "output_type": "stream",
     "text": [
      "Reading: 2019.csv\n",
      "Reading: 2020.csv\n",
      "Reading: 2021.csv\n"
     ]
    },
    {
     "name": "stderr",
     "output_type": "stream",
     "text": [
      "C:\\Users\\bemen\\AppData\\Local\\Temp\\ipykernel_2712\\2662699100.py:6: DtypeWarning: Columns (2,15,18) have mixed types. Specify dtype option on import or set low_memory=False.\n",
      "  df_aux = pd.read_csv(\"./output/\" + str(age) + \"/\" + str(age) + \".csv\", usecols=required_columns, encoding=\"utf-8\")\n"
     ]
    },
    {
     "name": "stdout",
     "output_type": "stream",
     "text": [
      "Reading: 2022.csv\n"
     ]
    },
    {
     "name": "stderr",
     "output_type": "stream",
     "text": [
      "C:\\Users\\bemen\\AppData\\Local\\Temp\\ipykernel_2712\\2662699100.py:6: DtypeWarning: Columns (2,3,6,7,8,18) have mixed types. Specify dtype option on import or set low_memory=False.\n",
      "  df_aux = pd.read_csv(\"./output/\" + str(age) + \"/\" + str(age) + \".csv\", usecols=required_columns, encoding=\"utf-8\")\n"
     ]
    },
    {
     "name": "stdout",
     "output_type": "stream",
     "text": [
      "Reading: 2023.csv\n",
      "Reading: 2024.csv\n"
     ]
    }
   ],
   "source": [
    "df = pd.DataFrame(columns=required_columns)\n",
    "df_list = []\n",
    "for age in ages_list:\n",
    "   print(f\"Reading: {age}.csv\")\n",
    "   try:\n",
    "      df_aux = pd.read_csv(\"./output/\" + str(age) + \"/\" + str(age) + \".csv\", usecols=required_columns, encoding=\"utf-8\")\n",
    "      df_list.append(df_aux)\n",
    "\n",
    "      df_aux = 0\n",
    "   except Exception as e:\n",
    "      print(str(e))\n",
    "\n",
    "try:\n",
    "   df = pd.concat(df_list, ignore_index=True)\n",
    "except Exception  as e:\n",
    "   print(\"Error while concatenating\")\n",
    "\n",
    "df_list.clear()"
   ]
  },
  {
   "cell_type": "code",
   "execution_count": null,
   "metadata": {},
   "outputs": [],
   "source": [
    "df.to_csv( results_path + \"raw_df.csv\", index=False)"
   ]
  },
  {
   "cell_type": "markdown",
   "metadata": {},
   "source": [
    "# Escolha dos campos\n",
    "\n",
    "- Campos desconsiderados:\n",
    "\n",
    "Campos relacionados à data e hora foram desconsiderados visto que não influênciariam positivamente os modelos de ML, as medidas temporais, neste caso, não interferem na chance de chuva, estando relcionada apenas à uma marcação temporal feita pelo sensor.\n",
    "\n",
    "Campos que continham informaçòes de minimos e máximos dentro de uma hora foram desconsiderados pois são informaçòes redundantes considerando que temos campos que apresentam a informação relativa dentro do período de tempo\n",
    "\n",
    "O campo relacionado a direção do vento, assim como a rajada máxima, não condiz com a previsào que estamos fazendo, visto que não estamos trabalhando com informações geográficas/de satélite das nuvens. Dessa forma, essas informaçòes relacionadas ao vento se tornam sem valor.\n",
    "\n"
   ]
  },
  {
   "cell_type": "markdown",
   "metadata": {},
   "source": [
    "# Analisando e tratando os dados"
   ]
  },
  {
   "cell_type": "code",
   "execution_count": null,
   "metadata": {},
   "outputs": [
    {
     "data": {
      "text/html": [
       "<div>\n",
       "<style scoped>\n",
       "    .dataframe tbody tr th:only-of-type {\n",
       "        vertical-align: middle;\n",
       "    }\n",
       "\n",
       "    .dataframe tbody tr th {\n",
       "        vertical-align: top;\n",
       "    }\n",
       "\n",
       "    .dataframe thead th {\n",
       "        text-align: right;\n",
       "    }\n",
       "</style>\n",
       "<table border=\"1\" class=\"dataframe\">\n",
       "  <thead>\n",
       "    <tr style=\"text-align: right;\">\n",
       "      <th></th>\n",
       "      <th>PRECIPITAÇÃO TOTAL, HORÁRIO (mm)</th>\n",
       "      <th>PRESSAO ATMOSFERICA AO NIVEL DA ESTACAO, HORARIA (mB)</th>\n",
       "      <th>RADIACAO GLOBAL (KJ/m²)</th>\n",
       "      <th>TEMPERATURA DO AR - BULBO SECO, HORARIA (°C)</th>\n",
       "      <th>TEMPERATURA DO PONTO DE ORVALHO (°C)</th>\n",
       "      <th>UMIDADE RELATIVA DO AR, HORARIA (%)</th>\n",
       "      <th>VENTO, VELOCIDADE HORARIA (m/s)</th>\n",
       "    </tr>\n",
       "  </thead>\n",
       "  <tbody>\n",
       "    <tr>\n",
       "      <th>0</th>\n",
       "      <td>-9999</td>\n",
       "      <td>-9999</td>\n",
       "      <td>-9999</td>\n",
       "      <td>-9999</td>\n",
       "      <td>-9999</td>\n",
       "      <td>-9999</td>\n",
       "      <td>-9999</td>\n",
       "    </tr>\n",
       "    <tr>\n",
       "      <th>1</th>\n",
       "      <td>-9999</td>\n",
       "      <td>-9999</td>\n",
       "      <td>-9999</td>\n",
       "      <td>-9999</td>\n",
       "      <td>-9999</td>\n",
       "      <td>-9999</td>\n",
       "      <td>-9999</td>\n",
       "    </tr>\n",
       "    <tr>\n",
       "      <th>2</th>\n",
       "      <td>-9999</td>\n",
       "      <td>-9999</td>\n",
       "      <td>-9999</td>\n",
       "      <td>-9999</td>\n",
       "      <td>-9999</td>\n",
       "      <td>-9999</td>\n",
       "      <td>-9999</td>\n",
       "    </tr>\n",
       "    <tr>\n",
       "      <th>3</th>\n",
       "      <td>-9999</td>\n",
       "      <td>-9999</td>\n",
       "      <td>-9999</td>\n",
       "      <td>-9999</td>\n",
       "      <td>-9999</td>\n",
       "      <td>-9999</td>\n",
       "      <td>-9999</td>\n",
       "    </tr>\n",
       "    <tr>\n",
       "      <th>4</th>\n",
       "      <td>-9999</td>\n",
       "      <td>-9999</td>\n",
       "      <td>-9999</td>\n",
       "      <td>-9999</td>\n",
       "      <td>-9999</td>\n",
       "      <td>-9999</td>\n",
       "      <td>-9999</td>\n",
       "    </tr>\n",
       "  </tbody>\n",
       "</table>\n",
       "</div>"
      ],
      "text/plain": [
       "  PRECIPITAÇÃO TOTAL, HORÁRIO (mm)  \\\n",
       "0                            -9999   \n",
       "1                            -9999   \n",
       "2                            -9999   \n",
       "3                            -9999   \n",
       "4                            -9999   \n",
       "\n",
       "  PRESSAO ATMOSFERICA AO NIVEL DA ESTACAO, HORARIA (mB)  \\\n",
       "0                                              -9999      \n",
       "1                                              -9999      \n",
       "2                                              -9999      \n",
       "3                                              -9999      \n",
       "4                                              -9999      \n",
       "\n",
       "  RADIACAO GLOBAL (KJ/m²) TEMPERATURA DO AR - BULBO SECO, HORARIA (°C)  \\\n",
       "0                   -9999                                        -9999   \n",
       "1                   -9999                                        -9999   \n",
       "2                   -9999                                        -9999   \n",
       "3                   -9999                                        -9999   \n",
       "4                   -9999                                        -9999   \n",
       "\n",
       "  TEMPERATURA DO PONTO DE ORVALHO (°C) UMIDADE RELATIVA DO AR, HORARIA (%)  \\\n",
       "0                                -9999                               -9999   \n",
       "1                                -9999                               -9999   \n",
       "2                                -9999                               -9999   \n",
       "3                                -9999                               -9999   \n",
       "4                                -9999                               -9999   \n",
       "\n",
       "  VENTO, VELOCIDADE HORARIA (m/s)  \n",
       "0                           -9999  \n",
       "1                           -9999  \n",
       "2                           -9999  \n",
       "3                           -9999  \n",
       "4                           -9999  "
      ]
     },
     "execution_count": 24,
     "metadata": {},
     "output_type": "execute_result"
    }
   ],
   "source": [
    "df.head()"
   ]
  },
  {
   "cell_type": "code",
   "execution_count": 25,
   "metadata": {},
   "outputs": [
    {
     "data": {
      "text/html": [
       "<div>\n",
       "<style scoped>\n",
       "    .dataframe tbody tr th:only-of-type {\n",
       "        vertical-align: middle;\n",
       "    }\n",
       "\n",
       "    .dataframe tbody tr th {\n",
       "        vertical-align: top;\n",
       "    }\n",
       "\n",
       "    .dataframe thead th {\n",
       "        text-align: right;\n",
       "    }\n",
       "</style>\n",
       "<table border=\"1\" class=\"dataframe\">\n",
       "  <thead>\n",
       "    <tr style=\"text-align: right;\">\n",
       "      <th></th>\n",
       "      <th>PRECIPITAÇÃO TOTAL, HORÁRIO (mm)</th>\n",
       "      <th>PRESSAO ATMOSFERICA AO NIVEL DA ESTACAO, HORARIA (mB)</th>\n",
       "      <th>RADIACAO GLOBAL (KJ/m²)</th>\n",
       "      <th>TEMPERATURA DO AR - BULBO SECO, HORARIA (°C)</th>\n",
       "      <th>TEMPERATURA DO PONTO DE ORVALHO (°C)</th>\n",
       "      <th>UMIDADE RELATIVA DO AR, HORARIA (%)</th>\n",
       "      <th>VENTO, VELOCIDADE HORARIA (m/s)</th>\n",
       "    </tr>\n",
       "  </thead>\n",
       "  <tbody>\n",
       "    <tr>\n",
       "      <th>79623475</th>\n",
       "      <td>0</td>\n",
       "      <td>899,3</td>\n",
       "      <td>1798,3</td>\n",
       "      <td>28,4</td>\n",
       "      <td>15,5</td>\n",
       "      <td>45.0</td>\n",
       "      <td>1,7</td>\n",
       "    </tr>\n",
       "    <tr>\n",
       "      <th>79623476</th>\n",
       "      <td>0</td>\n",
       "      <td>899</td>\n",
       "      <td>1478,9</td>\n",
       "      <td>28,1</td>\n",
       "      <td>15,3</td>\n",
       "      <td>46.0</td>\n",
       "      <td>1,9</td>\n",
       "    </tr>\n",
       "    <tr>\n",
       "      <th>79623477</th>\n",
       "      <td>0</td>\n",
       "      <td>898,9</td>\n",
       "      <td>907,4</td>\n",
       "      <td>27,9</td>\n",
       "      <td>14,8</td>\n",
       "      <td>45.0</td>\n",
       "      <td>,8</td>\n",
       "    </tr>\n",
       "    <tr>\n",
       "      <th>79623478</th>\n",
       "      <td>0</td>\n",
       "      <td>899,2</td>\n",
       "      <td>226,6</td>\n",
       "      <td>24,7</td>\n",
       "      <td>17,8</td>\n",
       "      <td>65.0</td>\n",
       "      <td>1,5</td>\n",
       "    </tr>\n",
       "    <tr>\n",
       "      <th>79623479</th>\n",
       "      <td>0</td>\n",
       "      <td>899,5</td>\n",
       "      <td>NaN</td>\n",
       "      <td>23,7</td>\n",
       "      <td>17,5</td>\n",
       "      <td>68.0</td>\n",
       "      <td>,8</td>\n",
       "    </tr>\n",
       "  </tbody>\n",
       "</table>\n",
       "</div>"
      ],
      "text/plain": [
       "         PRECIPITAÇÃO TOTAL, HORÁRIO (mm)  \\\n",
       "79623475                                0   \n",
       "79623476                                0   \n",
       "79623477                                0   \n",
       "79623478                                0   \n",
       "79623479                                0   \n",
       "\n",
       "         PRESSAO ATMOSFERICA AO NIVEL DA ESTACAO, HORARIA (mB)  \\\n",
       "79623475                                              899,3      \n",
       "79623476                                                899      \n",
       "79623477                                              898,9      \n",
       "79623478                                              899,2      \n",
       "79623479                                              899,5      \n",
       "\n",
       "         RADIACAO GLOBAL (KJ/m²) TEMPERATURA DO AR - BULBO SECO, HORARIA (°C)  \\\n",
       "79623475                  1798,3                                         28,4   \n",
       "79623476                  1478,9                                         28,1   \n",
       "79623477                   907,4                                         27,9   \n",
       "79623478                   226,6                                         24,7   \n",
       "79623479                     NaN                                         23,7   \n",
       "\n",
       "         TEMPERATURA DO PONTO DE ORVALHO (°C)  \\\n",
       "79623475                                 15,5   \n",
       "79623476                                 15,3   \n",
       "79623477                                 14,8   \n",
       "79623478                                 17,8   \n",
       "79623479                                 17,5   \n",
       "\n",
       "         UMIDADE RELATIVA DO AR, HORARIA (%) VENTO, VELOCIDADE HORARIA (m/s)  \n",
       "79623475                                45.0                             1,7  \n",
       "79623476                                46.0                             1,9  \n",
       "79623477                                45.0                              ,8  \n",
       "79623478                                65.0                             1,5  \n",
       "79623479                                68.0                              ,8  "
      ]
     },
     "execution_count": 25,
     "metadata": {},
     "output_type": "execute_result"
    }
   ],
   "source": [
    "df.tail()"
   ]
  },
  {
   "cell_type": "code",
   "execution_count": 12,
   "metadata": {},
   "outputs": [],
   "source": [
    "def check_null(df):\n",
    "   print(\"Nulls Count\\n========================\\n\")\n",
    "\n",
    "   for i in df.columns:\n",
    "      print(i, \": \", df[i].isnull().sum())"
   ]
  },
  {
   "cell_type": "code",
   "execution_count": 11,
   "metadata": {},
   "outputs": [],
   "source": [
    "def check_types(df):\n",
    "   print(\"Verifying Types\\n========================\\n\")\n",
    "\n",
    "   for i in df.columns:\n",
    "      print(i, \": \", df[i].dtype)"
   ]
  },
  {
   "cell_type": "code",
   "execution_count": 18,
   "metadata": {},
   "outputs": [],
   "source": [
    "# Função eficiente para converter strings com vírgulas\n",
    "def convert_to_float(valor):\n",
    "    if isinstance(valor, str):\n",
    "        return float(valor.replace('.', '').replace(',', '.'))\n",
    "    return valor"
   ]
  },
  {
   "cell_type": "code",
   "execution_count": 8,
   "metadata": {},
   "outputs": [],
   "source": [
    "def opt_types(df):\n",
    "    for col in df.select_dtypes(include=['int', 'float']):\n",
    "        df[col] = pd.to_numeric(df[col], downcast='float')\n",
    "    return df\n"
   ]
  },
  {
   "cell_type": "markdown",
   "metadata": {},
   "source": [
    "### Otimizando o tipo dos dados"
   ]
  },
  {
   "cell_type": "code",
   "execution_count": null,
   "metadata": {},
   "outputs": [],
   "source": [
    "df['PRECIPITAÇÃO TOTAL, HORÁRIO (mm)'] = df['PRECIPITAÇÃO TOTAL, HORÁRIO (mm)'].apply(convert_to_float)\n",
    "df['PRESSAO ATMOSFERICA AO NIVEL DA ESTACAO, HORARIA (mB)'] = df['PRESSAO ATMOSFERICA AO NIVEL DA ESTACAO, HORARIA (mB)'].apply(convert_to_float)\n",
    "df['RADIACAO GLOBAL (KJ/m²)'] = df['RADIACAO GLOBAL (KJ/m²)'].apply(convert_to_float)\n",
    "df['TEMPERATURA DO AR - BULBO SECO, HORARIA (°C)'] = df['TEMPERATURA DO AR - BULBO SECO, HORARIA (°C)'].apply(convert_to_float)\n",
    "df['TEMPERATURA DO PONTO DE ORVALHO (°C)'] = df['TEMPERATURA DO PONTO DE ORVALHO (°C)'].apply(convert_to_float)\n",
    "df['UMIDADE RELATIVA DO AR, HORARIA (%)'] = df['UMIDADE RELATIVA DO AR, HORARIA (%)'].apply(convert_to_float)\n",
    "df['VENTO, VELOCIDADE HORARIA (m/s)'] = df['VENTO, VELOCIDADE HORARIA (m/s)'].apply(convert_to_float)\n"
   ]
  },
  {
   "cell_type": "code",
   "execution_count": 9,
   "metadata": {},
   "outputs": [],
   "source": [
    "df = opt_types(df)"
   ]
  },
  {
   "cell_type": "code",
   "execution_count": 12,
   "metadata": {},
   "outputs": [
    {
     "name": "stdout",
     "output_type": "stream",
     "text": [
      "Verifying Types\n",
      "========================\n",
      "\n",
      "PRECIPITAÇÃO TOTAL, HORÁRIO (mm) :  float32\n",
      "PRESSAO ATMOSFERICA AO NIVEL DA ESTACAO, HORARIA (mB) :  float32\n",
      "RADIACAO GLOBAL (KJ/m²) :  float64\n",
      "TEMPERATURA DO AR - BULBO SECO, HORARIA (°C) :  float32\n",
      "TEMPERATURA DO PONTO DE ORVALHO (°C) :  float32\n",
      "UMIDADE RELATIVA DO AR, HORARIA (%) :  float32\n",
      "VENTO, VELOCIDADE HORARIA (m/s) :  float32\n"
     ]
    }
   ],
   "source": [
    "check_types(df)"
   ]
  },
  {
   "cell_type": "markdown",
   "metadata": {},
   "source": [
    "### Removendo linhas completamente vazias - Step 1"
   ]
  },
  {
   "cell_type": "code",
   "execution_count": 45,
   "metadata": {},
   "outputs": [
    {
     "name": "stdout",
     "output_type": "stream",
     "text": [
      "Nulls Count\n",
      "========================\n",
      "\n",
      "PRECIPITAÇÃO TOTAL, HORÁRIO (mm) :  8919494\n",
      "PRESSAO ATMOSFERICA AO NIVEL DA ESTACAO, HORARIA (mB) :  6993039\n",
      "RADIACAO GLOBAL (KJ/m²) :  17589394\n",
      "TEMPERATURA DO AR - BULBO SECO, HORARIA (°C) :  7037007\n",
      "TEMPERATURA DO PONTO DE ORVALHO (°C) :  8117713\n",
      "UMIDADE RELATIVA DO AR, HORARIA (%) :  8057354\n",
      "VENTO, VELOCIDADE HORARIA (m/s) :  8185613\n"
     ]
    }
   ],
   "source": [
    "check_null(df)"
   ]
  },
  {
   "cell_type": "code",
   "execution_count": 15,
   "metadata": {},
   "outputs": [],
   "source": [
    "df = df.dropna(how='all')"
   ]
  },
  {
   "cell_type": "code",
   "execution_count": 13,
   "metadata": {},
   "outputs": [
    {
     "name": "stdout",
     "output_type": "stream",
     "text": [
      "Nulls Count\n",
      "========================\n",
      "\n",
      "PRECIPITAÇÃO TOTAL, HORÁRIO (mm) :  1949322\n",
      "PRESSAO ATMOSFERICA AO NIVEL DA ESTACAO, HORARIA (mB) :  88403\n",
      "RADIACAO GLOBAL (KJ/m²) :  9493942\n",
      "TEMPERATURA DO AR - BULBO SECO, HORARIA (°C) :  132371\n",
      "TEMPERATURA DO PONTO DE ORVALHO (°C) :  1213077\n",
      "UMIDADE RELATIVA DO AR, HORARIA (%) :  1152718\n",
      "VENTO, VELOCIDADE HORARIA (m/s) :  1280977\n"
     ]
    }
   ],
   "source": [
    "check_null(df)"
   ]
  },
  {
   "cell_type": "code",
   "execution_count": 42,
   "metadata": {},
   "outputs": [
    {
     "name": "stdout",
     "output_type": "stream",
     "text": [
      "Nulls Count (%)\n",
      "========================\n",
      "\n",
      "PRECIPITAÇÃO TOTAL, HORÁRIO (mm): 2.68%\n",
      "PRESSAO ATMOSFERICA AO NIVEL DA ESTACAO, HORARIA (mB): 0.12%\n",
      "RADIACAO GLOBAL (KJ/m²): 13.06%\n",
      "TEMPERATURA DO AR - BULBO SECO, HORARIA (°C): 0.18%\n",
      "TEMPERATURA DO PONTO DE ORVALHO (°C): 1.67%\n",
      "UMIDADE RELATIVA DO AR, HORARIA (%): 1.59%\n",
      "VENTO, VELOCIDADE HORARIA (m/s): 1.76%\n"
     ]
    }
   ],
   "source": [
    "print(\"Nulls Count (%)\\n========================\\n\")\n",
    "for col in df.columns:\n",
    "   print(f\"{col}: {(df[col].isnull().sum()/df.shape[0] * 100):.2f}%\")"
   ]
  },
  {
   "cell_type": "markdown",
   "metadata": {},
   "source": [
    "### Valores inconsistentes - Step 2\n",
    "\n",
    "Alguns campos podem possuir valores inconsistentes. Um exemplo é o campo _Precipitação Total Horário (mm)_, teoricamente, é impossível que haja uma quantidade negativa de chuva.\n",
    "\n",
    "| Nome do Campo                                               | Pode ser Negativo? | Motivo                                                                                                                                                      |\n",
    "|-------------------------------------------------------------|--------------------|-------------------------------------------------------------------------------------------------------------------------------------------------------------|\n",
    "| PRECIPITAÇÃO TOTAL, HORÁRIA (mm)                           | Não                | A precipitação representa a quantidade de chuva acumulada em milímetros. É uma medida física que não pode ser negativa.                                     |\n",
    "| PRESSÃO ATMOSFÉRICA AO NÍVEL DA ESTAÇÃO, HORÁRIA (mB)       | Não                | A pressão atmosférica é sempre positiva, pois é causada pelo peso do ar acima da superfície terrestre.                                                     |\n",
    "| RADIAÇÃO GLOBAL (KJ/m²)                                     | Não                | A radiação global mede a energia solar incidente em uma superfície. Como é uma energia acumulada, não pode ser negativa.                                    |\n",
    "| TEMPERATURA DO AR - BULBO SECO, HORÁRIA (°C)                | Sim                | A temperatura do ar pode ser negativa em climas frios, especialmente durante o inverno ou em regiões de alta latitude/altitude.                            |\n",
    "| TEMPERATURA DO PONTO DE ORVALHO (°C)                        | Sim                | A temperatura do ponto de orvalho pode ser negativa quando o ar está muito frio e contém pouca umidade.                                                    |\n",
    "| UMIDADE RELATIVA DO AR, HORÁRIA (%)                         | Não                | A umidade relativa é uma porcentagem (entre 0 e 100) que mede a quantidade de vapor de água no ar em relação ao máximo possível. Valores negativos são fisicamente impossíveis. |\n",
    "| VENTO, VELOCIDADE HORÁRIA (m/s)                             | Não                | A velocidade do vento é sempre uma magnitude positiva ou zero. Se houver vetores de direção, estes podem ser negativos, mas não a velocidade em si.         |\n"
   ]
  },
  {
   "cell_type": "code",
   "execution_count": 17,
   "metadata": {},
   "outputs": [
    {
     "data": {
      "text/plain": [
       "PRECIPITAÇÃO TOTAL, HORÁRIO (mm)                        -9999.0\n",
       "PRESSAO ATMOSFERICA AO NIVEL DA ESTACAO, HORARIA (mB)   -9999.0\n",
       "RADIACAO GLOBAL (KJ/m²)                                 -9999.0\n",
       "TEMPERATURA DO AR - BULBO SECO, HORARIA (°C)            -9999.0\n",
       "TEMPERATURA DO PONTO DE ORVALHO (°C)                    -9999.0\n",
       "UMIDADE RELATIVA DO AR, HORARIA (%)                     -9999.0\n",
       "VENTO, VELOCIDADE HORARIA (m/s)                         -9999.0\n",
       "dtype: float64"
      ]
     },
     "execution_count": 17,
     "metadata": {},
     "output_type": "execute_result"
    }
   ],
   "source": [
    "df.min()"
   ]
  },
  {
   "cell_type": "code",
   "execution_count": 50,
   "metadata": {},
   "outputs": [
    {
     "name": "stdout",
     "output_type": "stream",
     "text": [
      "Negative Count (%)\n",
      "========================\n",
      "\n",
      "PRECIPITAÇÃO TOTAL, HORÁRIO (mm): 8.15%\n",
      "PRESSAO ATMOSFERICA AO NIVEL DA ESTACAO, HORARIA (mB): 6.23%\n",
      "RADIACAO GLOBAL (KJ/m²): 33.87%\n",
      "TEMPERATURA DO AR - BULBO SECO, HORARIA (°C): 6.02%\n",
      "TEMPERATURA DO PONTO DE ORVALHO (°C): 7.12%\n",
      "UMIDADE RELATIVA DO AR, HORARIA (%): 6.82%\n",
      "VENTO, VELOCIDADE HORARIA (m/s): 7.25%\n"
     ]
    }
   ],
   "source": [
    "print(\"Negative Count (%)\\n========================\\n\")\n",
    "for col in df.columns:\n",
    "   print(f\"{col}: {((df[col] < 0).sum()/df.shape[0] * 100):.2f}%\")"
   ]
  },
  {
   "cell_type": "code",
   "execution_count": 52,
   "metadata": {},
   "outputs": [
    {
     "data": {
      "text/plain": [
       "(array([ 4356082.,        0.,        0.,        0.,        0.,        0.,\n",
       "               0.,        0.,        0., 68230391.]),\n",
       " array([-9999.        , -8994.59960938, -7990.20019531, -6985.79980469,\n",
       "        -5981.39990234, -4977.        , -3972.59960938, -2968.19970703,\n",
       "        -1963.79980469,  -959.39941406,    45.        ]),\n",
       " <BarContainer object of 10 artists>)"
      ]
     },
     "execution_count": 52,
     "metadata": {},
     "output_type": "execute_result"
    },
    {
     "data": {
      "image/png": "[encoded data removed]",
      "text/plain": [
       "<Figure size 640x480 with 1 Axes>"
      ]
     },
     "metadata": {},
     "output_type": "display_data"
    }
   ],
   "source": [
    "plt.hist(x = df[\"TEMPERATURA DO AR - BULBO SECO, HORARIA (°C)\"])"
   ]
  },
  {
   "cell_type": "code",
   "execution_count": 54,
   "metadata": {},
   "outputs": [
    {
     "data": {
      "text/plain": [
       "(array([ 4992029.,        0.,        0.,        0.,        0.,        0.,\n",
       "               0.,        0.,        0., 66513738.]),\n",
       " array([-9999.        , -8994.59960938, -7990.20019531, -6985.79980469,\n",
       "        -5981.39990234, -4977.        , -3972.59960938, -2968.19970703,\n",
       "        -1963.79980469,  -959.39941406,    45.        ]),\n",
       " <BarContainer object of 10 artists>)"
      ]
     },
     "execution_count": 54,
     "metadata": {},
     "output_type": "execute_result"
    },
    {
     "data": {
      "image/png": "[encoded data removed]",
      "text/plain": [
       "<Figure size 640x480 with 1 Axes>"
      ]
     },
     "metadata": {},
     "output_type": "display_data"
    }
   ],
   "source": [
    "plt.hist(x=df[\"TEMPERATURA DO PONTO DE ORVALHO (°C)\"])"
   ]
  },
  {
   "cell_type": "code",
   "execution_count": 19,
   "metadata": {},
   "outputs": [],
   "source": [
    "df = df[~((df['PRECIPITAÇÃO TOTAL, HORÁRIO (mm)'] < 0) & (df['RADIACAO GLOBAL (KJ/m²)'] < 0) & (df['UMIDADE RELATIVA DO AR, HORARIA (%)'] < 0) & (df['PRESSAO ATMOSFERICA AO NIVEL DA ESTACAO, HORARIA (mB)'] < 0) & (df['VENTO, VELOCIDADE HORARIA (m/s)'] < 0) & (df['TEMPERATURA DO AR - BULBO SECO, HORARIA (°C)'] < -100) & (df['TEMPERATURA DO PONTO DE ORVALHO (°C)'] < -100))]"
   ]
  },
  {
   "cell_type": "code",
   "execution_count": 20,
   "metadata": {},
   "outputs": [
    {
     "name": "stdout",
     "output_type": "stream",
     "text": [
      "Negative Count (%)\n",
      "========================\n",
      "\n",
      "PRECIPITAÇÃO TOTAL, HORÁRIO (mm): 2.39%\n",
      "PRESSAO ATMOSFERICA AO NIVEL DA ESTACAO, HORARIA (mB): 0.35%\n",
      "RADIACAO GLOBAL (KJ/m²): 29.73%\n",
      "TEMPERATURA DO AR - BULBO SECO, HORARIA (°C): 0.13%\n",
      "TEMPERATURA DO PONTO DE ORVALHO (°C): 1.31%\n",
      "UMIDADE RELATIVA DO AR, HORARIA (%): 0.98%\n",
      "VENTO, VELOCIDADE HORARIA (m/s): 1.44%\n"
     ]
    }
   ],
   "source": [
    "print(\"Negative Count (%)\\n========================\\n\")\n",
    "for col in df.columns:\n",
    "   print(f\"{col}: {((df[col] < 0).sum()/df.shape[0] * 100):.2f}%\")"
   ]
  },
  {
   "cell_type": "code",
   "execution_count": 56,
   "metadata": {},
   "outputs": [
    {
     "data": {
      "text/html": [
       "<div>\n",
       "<style scoped>\n",
       "    .dataframe tbody tr th:only-of-type {\n",
       "        vertical-align: middle;\n",
       "    }\n",
       "\n",
       "    .dataframe tbody tr th {\n",
       "        vertical-align: top;\n",
       "    }\n",
       "\n",
       "    .dataframe thead th {\n",
       "        text-align: right;\n",
       "    }\n",
       "</style>\n",
       "<table border=\"1\" class=\"dataframe\">\n",
       "  <thead>\n",
       "    <tr style=\"text-align: right;\">\n",
       "      <th></th>\n",
       "      <th>PRECIPITAÇÃO TOTAL, HORÁRIO (mm)</th>\n",
       "      <th>PRESSAO ATMOSFERICA AO NIVEL DA ESTACAO, HORARIA (mB)</th>\n",
       "      <th>RADIACAO GLOBAL (KJ/m²)</th>\n",
       "      <th>TEMPERATURA DO AR - BULBO SECO, HORARIA (°C)</th>\n",
       "      <th>TEMPERATURA DO PONTO DE ORVALHO (°C)</th>\n",
       "      <th>UMIDADE RELATIVA DO AR, HORARIA (%)</th>\n",
       "      <th>VENTO, VELOCIDADE HORARIA (m/s)</th>\n",
       "    </tr>\n",
       "  </thead>\n",
       "  <tbody>\n",
       "    <tr>\n",
       "      <th>count</th>\n",
       "      <td>6.648404e+07</td>\n",
       "      <td>6.834496e+07</td>\n",
       "      <td>5.893942e+07</td>\n",
       "      <td>6.830099e+07</td>\n",
       "      <td>6.722028e+07</td>\n",
       "      <td>6.728064e+07</td>\n",
       "      <td>6.715238e+07</td>\n",
       "    </tr>\n",
       "    <tr>\n",
       "      <th>mean</th>\n",
       "      <td>-2.462282e+02</td>\n",
       "      <td>9.264696e+02</td>\n",
       "      <td>-2.496655e+03</td>\n",
       "      <td>1.304355e+01</td>\n",
       "      <td>-8.809978e+01</td>\n",
       "      <td>-2.866227e+01</td>\n",
       "      <td>-1.449079e+02</td>\n",
       "    </tr>\n",
       "    <tr>\n",
       "      <th>std</th>\n",
       "      <td>1.550137e+03</td>\n",
       "      <td>6.522114e+02</td>\n",
       "      <td>5.721229e+03</td>\n",
       "      <td>3.220998e+02</td>\n",
       "      <td>1.021484e+03</td>\n",
       "      <td>1.001432e+03</td>\n",
       "      <td>1.203160e+03</td>\n",
       "    </tr>\n",
       "    <tr>\n",
       "      <th>min</th>\n",
       "      <td>-9.999000e+03</td>\n",
       "      <td>-9.999000e+03</td>\n",
       "      <td>-9.999000e+03</td>\n",
       "      <td>-9.999000e+03</td>\n",
       "      <td>-9.999000e+03</td>\n",
       "      <td>-9.999000e+03</td>\n",
       "      <td>-9.999000e+03</td>\n",
       "    </tr>\n",
       "    <tr>\n",
       "      <th>25%</th>\n",
       "      <td>0.000000e+00</td>\n",
       "      <td>9.391000e+02</td>\n",
       "      <td>-9.999000e+03</td>\n",
       "      <td>2.010000e+01</td>\n",
       "      <td>1.410000e+01</td>\n",
       "      <td>5.700000e+01</td>\n",
       "      <td>6.000000e-01</td>\n",
       "    </tr>\n",
       "    <tr>\n",
       "      <th>50%</th>\n",
       "      <td>0.000000e+00</td>\n",
       "      <td>9.699000e+02</td>\n",
       "      <td>2.052000e+02</td>\n",
       "      <td>2.360000e+01</td>\n",
       "      <td>1.800000e+01</td>\n",
       "      <td>7.600000e+01</td>\n",
       "      <td>1.700000e+00</td>\n",
       "    </tr>\n",
       "    <tr>\n",
       "      <th>75%</th>\n",
       "      <td>0.000000e+00</td>\n",
       "      <td>9.972000e+02</td>\n",
       "      <td>1.688000e+03</td>\n",
       "      <td>2.710000e+01</td>\n",
       "      <td>2.090000e+01</td>\n",
       "      <td>8.900000e+01</td>\n",
       "      <td>2.900000e+00</td>\n",
       "    </tr>\n",
       "    <tr>\n",
       "      <th>max</th>\n",
       "      <td>1.382000e+02</td>\n",
       "      <td>1.050000e+03</td>\n",
       "      <td>5.158800e+04</td>\n",
       "      <td>4.500000e+01</td>\n",
       "      <td>4.500000e+01</td>\n",
       "      <td>9.900000e+02</td>\n",
       "      <td>4.340000e+01</td>\n",
       "    </tr>\n",
       "  </tbody>\n",
       "</table>\n",
       "</div>"
      ],
      "text/plain": [
       "       PRECIPITAÇÃO TOTAL, HORÁRIO (mm)  \\\n",
       "count                      6.648404e+07   \n",
       "mean                      -2.462282e+02   \n",
       "std                        1.550137e+03   \n",
       "min                       -9.999000e+03   \n",
       "25%                        0.000000e+00   \n",
       "50%                        0.000000e+00   \n",
       "75%                        0.000000e+00   \n",
       "max                        1.382000e+02   \n",
       "\n",
       "       PRESSAO ATMOSFERICA AO NIVEL DA ESTACAO, HORARIA (mB)  \\\n",
       "count                                       6.834496e+07       \n",
       "mean                                        9.264696e+02       \n",
       "std                                         6.522114e+02       \n",
       "min                                        -9.999000e+03       \n",
       "25%                                         9.391000e+02       \n",
       "50%                                         9.699000e+02       \n",
       "75%                                         9.972000e+02       \n",
       "max                                         1.050000e+03       \n",
       "\n",
       "       RADIACAO GLOBAL (KJ/m²)  TEMPERATURA DO AR - BULBO SECO, HORARIA (°C)  \\\n",
       "count             5.893942e+07                                  6.830099e+07   \n",
       "mean             -2.496655e+03                                  1.304355e+01   \n",
       "std               5.721229e+03                                  3.220998e+02   \n",
       "min              -9.999000e+03                                 -9.999000e+03   \n",
       "25%              -9.999000e+03                                  2.010000e+01   \n",
       "50%               2.052000e+02                                  2.360000e+01   \n",
       "75%               1.688000e+03                                  2.710000e+01   \n",
       "max               5.158800e+04                                  4.500000e+01   \n",
       "\n",
       "       TEMPERATURA DO PONTO DE ORVALHO (°C)  \\\n",
       "count                          6.722028e+07   \n",
       "mean                          -8.809978e+01   \n",
       "std                            1.021484e+03   \n",
       "min                           -9.999000e+03   \n",
       "25%                            1.410000e+01   \n",
       "50%                            1.800000e+01   \n",
       "75%                            2.090000e+01   \n",
       "max                            4.500000e+01   \n",
       "\n",
       "       UMIDADE RELATIVA DO AR, HORARIA (%)  VENTO, VELOCIDADE HORARIA (m/s)  \n",
       "count                         6.728064e+07                     6.715238e+07  \n",
       "mean                         -2.866227e+01                    -1.449079e+02  \n",
       "std                           1.001432e+03                     1.203160e+03  \n",
       "min                          -9.999000e+03                    -9.999000e+03  \n",
       "25%                           5.700000e+01                     6.000000e-01  \n",
       "50%                           7.600000e+01                     1.700000e+00  \n",
       "75%                           8.900000e+01                     2.900000e+00  \n",
       "max                           9.900000e+02                     4.340000e+01  "
      ]
     },
     "execution_count": 56,
     "metadata": {},
     "output_type": "execute_result"
    }
   ],
   "source": [
    "df.describe()"
   ]
  },
  {
   "cell_type": "markdown",
   "metadata": {},
   "source": [
    "Os campos que possuem poucos valores inconsistentes irão ser preenchidos com a média.\n",
    "\n",
    "Ao analisar o visualmente o campo _RADIACAO GLOBAL (KJ/m²)_ utilizando o Microsoft Excel foi possível observar um padrão na marcação. A radiação só era contabilizada entre os horários 09:00 e 22:00, nas amostras de dados mais recentes, o restante dos horários não era marcada, não possuindo dados nas linhas, em datasets mais antigos era posto valores negativos muito altos como -999 ou -9999 (isso também é válido para os outros campos). \n",
    "\n",
    "Além disso, os valores medidos crescem até certa do hora do dia e diminuem com o tempo, evidenciando um ciclo. Dessa forma, os valores negativos e faltantes serão preenchidos com 0, para manter a coerência com o restante da medição."
   ]
  },
  {
   "cell_type": "code",
   "execution_count": 21,
   "metadata": {},
   "outputs": [],
   "source": [
    "mean_pos_temperatura_bulbo = df[df[\"TEMPERATURA DO AR - BULBO SECO, HORARIA (°C)\"] >= -100][\"TEMPERATURA DO AR - BULBO SECO, HORARIA (°C)\"].mean()\n",
    "mean_pos_ponto_orvalho = df[df[\"TEMPERATURA DO PONTO DE ORVALHO (°C)\"] >= -100][\"TEMPERATURA DO PONTO DE ORVALHO (°C)\"].mean()\n",
    "mean_pos_precipitacao = df[df[\"PRECIPITAÇÃO TOTAL, HORÁRIO (mm)\"] > 0][\"PRECIPITAÇÃO TOTAL, HORÁRIO (mm)\"].mean()\n",
    "mean_pos_pressao = df[df[\"PRESSAO ATMOSFERICA AO NIVEL DA ESTACAO, HORARIA (mB)\"] > 0][\"PRESSAO ATMOSFERICA AO NIVEL DA ESTACAO, HORARIA (mB)\"].mean()\n",
    "mean_pos_umidade = df[df[\"UMIDADE RELATIVA DO AR, HORARIA (%)\"] > 0][\"UMIDADE RELATIVA DO AR, HORARIA (%)\"].mean()\n",
    "mean_pos_vento = df[df[\"VENTO, VELOCIDADE HORARIA (m/s)\"] > 0][\"VENTO, VELOCIDADE HORARIA (m/s)\"].mean()\n",
    "\n",
    "df.loc[df[\"TEMPERATURA DO AR - BULBO SECO, HORARIA (°C)\"] < -100, \"TEMPERATURA DO AR - BULBO SECO, HORARIA (°C)\"] = mean_pos_temperatura_bulbo\n",
    "df.loc[df[\"TEMPERATURA DO PONTO DE ORVALHO (°C)\"] < -100, \"TEMPERATURA DO PONTO DE ORVALHO (°C)\"] = mean_pos_ponto_orvalho\n",
    "df.loc[df[\"PRECIPITAÇÃO TOTAL, HORÁRIO (mm)\"] < 0, \"PRECIPITAÇÃO TOTAL, HORÁRIO (mm)\"] = mean_pos_precipitacao\n",
    "df.loc[df[\"PRESSAO ATMOSFERICA AO NIVEL DA ESTACAO, HORARIA (mB)\"] < 0, \"PRESSAO ATMOSFERICA AO NIVEL DA ESTACAO, HORARIA (mB)\"] = mean_pos_pressao\n",
    "df.loc[df[\"UMIDADE RELATIVA DO AR, HORARIA (%)\"] < 0, \"UMIDADE RELATIVA DO AR, HORARIA (%)\"] = mean_pos_umidade\n",
    "df.loc[df[\"VENTO, VELOCIDADE HORARIA (m/s)\"] < 0, \"VENTO, VELOCIDADE HORARIA (m/s)\"] = mean_pos_vento\n",
    "\n",
    "df.loc[df[\"RADIACAO GLOBAL (KJ/m²)\"] < 0, \n",
    "                \"RADIACAO GLOBAL (KJ/m²)\"] = 0\n"
   ]
  },
  {
   "cell_type": "code",
   "execution_count": 29,
   "metadata": {},
   "outputs": [
    {
     "name": "stdout",
     "output_type": "stream",
     "text": [
      "Negative Count (%)\n",
      "========================\n",
      "\n",
      "PRECIPITAÇÃO TOTAL, HORÁRIO (mm): 0.00%\n",
      "PRESSAO ATMOSFERICA AO NIVEL DA ESTACAO, HORARIA (mB): 0.00%\n",
      "RADIACAO GLOBAL (KJ/m²): 0.00%\n",
      "TEMPERATURA DO AR - BULBO SECO, HORARIA (°C): 0.03%\n",
      "TEMPERATURA DO PONTO DE ORVALHO (°C): 0.27%\n",
      "UMIDADE RELATIVA DO AR, HORARIA (%): 0.00%\n",
      "VENTO, VELOCIDADE HORARIA (m/s): 0.00%\n"
     ]
    }
   ],
   "source": [
    "print(\"Negative Count (%)\\n========================\\n\")\n",
    "for col in df.columns:\n",
    "   print(f\"{col}: {((df[col] < 0).sum()/df.shape[0] * 100):.2f}%\")"
   ]
  },
  {
   "cell_type": "code",
   "execution_count": 22,
   "metadata": {},
   "outputs": [
    {
     "data": {
      "text/html": [
       "<div>\n",
       "<style scoped>\n",
       "    .dataframe tbody tr th:only-of-type {\n",
       "        vertical-align: middle;\n",
       "    }\n",
       "\n",
       "    .dataframe tbody tr th {\n",
       "        vertical-align: top;\n",
       "    }\n",
       "\n",
       "    .dataframe thead th {\n",
       "        text-align: right;\n",
       "    }\n",
       "</style>\n",
       "<table border=\"1\" class=\"dataframe\">\n",
       "  <thead>\n",
       "    <tr style=\"text-align: right;\">\n",
       "      <th></th>\n",
       "      <th>PRECIPITAÇÃO TOTAL, HORÁRIO (mm)</th>\n",
       "      <th>PRESSAO ATMOSFERICA AO NIVEL DA ESTACAO, HORARIA (mB)</th>\n",
       "      <th>RADIACAO GLOBAL (KJ/m²)</th>\n",
       "      <th>TEMPERATURA DO AR - BULBO SECO, HORARIA (°C)</th>\n",
       "      <th>TEMPERATURA DO PONTO DE ORVALHO (°C)</th>\n",
       "      <th>UMIDADE RELATIVA DO AR, HORARIA (%)</th>\n",
       "      <th>VENTO, VELOCIDADE HORARIA (m/s)</th>\n",
       "    </tr>\n",
       "  </thead>\n",
       "  <tbody>\n",
       "    <tr>\n",
       "      <th>count</th>\n",
       "      <td>6.648404e+07</td>\n",
       "      <td>6.834496e+07</td>\n",
       "      <td>5.893942e+07</td>\n",
       "      <td>6.830099e+07</td>\n",
       "      <td>6.722028e+07</td>\n",
       "      <td>6.728064e+07</td>\n",
       "      <td>6.715238e+07</td>\n",
       "    </tr>\n",
       "    <tr>\n",
       "      <th>mean</th>\n",
       "      <td>2.059388e-01</td>\n",
       "      <td>9.652714e+02</td>\n",
       "      <td>9.550622e+02</td>\n",
       "      <td>2.340275e+01</td>\n",
       "      <td>1.717906e+01</td>\n",
       "      <td>7.187551e+01</td>\n",
       "      <td>1.999525e+00</td>\n",
       "    </tr>\n",
       "    <tr>\n",
       "      <th>std</th>\n",
       "      <td>1.309154e+00</td>\n",
       "      <td>3.801370e+01</td>\n",
       "      <td>1.881459e+03</td>\n",
       "      <td>5.638449e+00</td>\n",
       "      <td>4.872242e+00</td>\n",
       "      <td>2.167405e+01</td>\n",
       "      <td>1.697745e+00</td>\n",
       "    </tr>\n",
       "    <tr>\n",
       "      <th>min</th>\n",
       "      <td>0.000000e+00</td>\n",
       "      <td>7.201000e+02</td>\n",
       "      <td>0.000000e+00</td>\n",
       "      <td>-5.140000e+01</td>\n",
       "      <td>-5.900000e+01</td>\n",
       "      <td>4.000000e+00</td>\n",
       "      <td>0.000000e+00</td>\n",
       "    </tr>\n",
       "    <tr>\n",
       "      <th>25%</th>\n",
       "      <td>0.000000e+00</td>\n",
       "      <td>9.398000e+02</td>\n",
       "      <td>0.000000e+00</td>\n",
       "      <td>2.010000e+01</td>\n",
       "      <td>1.430000e+01</td>\n",
       "      <td>5.800000e+01</td>\n",
       "      <td>7.000000e-01</td>\n",
       "    </tr>\n",
       "    <tr>\n",
       "      <th>50%</th>\n",
       "      <td>0.000000e+00</td>\n",
       "      <td>9.699000e+02</td>\n",
       "      <td>2.052000e+02</td>\n",
       "      <td>2.360000e+01</td>\n",
       "      <td>1.800000e+01</td>\n",
       "      <td>7.600000e+01</td>\n",
       "      <td>1.700000e+00</td>\n",
       "    </tr>\n",
       "    <tr>\n",
       "      <th>75%</th>\n",
       "      <td>0.000000e+00</td>\n",
       "      <td>9.972000e+02</td>\n",
       "      <td>1.688000e+03</td>\n",
       "      <td>2.710000e+01</td>\n",
       "      <td>2.090000e+01</td>\n",
       "      <td>8.900000e+01</td>\n",
       "      <td>2.900000e+00</td>\n",
       "    </tr>\n",
       "    <tr>\n",
       "      <th>max</th>\n",
       "      <td>1.382000e+02</td>\n",
       "      <td>1.050000e+03</td>\n",
       "      <td>5.158800e+04</td>\n",
       "      <td>4.500000e+01</td>\n",
       "      <td>4.500000e+01</td>\n",
       "      <td>9.900000e+02</td>\n",
       "      <td>4.340000e+01</td>\n",
       "    </tr>\n",
       "  </tbody>\n",
       "</table>\n",
       "</div>"
      ],
      "text/plain": [
       "       PRECIPITAÇÃO TOTAL, HORÁRIO (mm)  \\\n",
       "count                      6.648404e+07   \n",
       "mean                       2.059388e-01   \n",
       "std                        1.309154e+00   \n",
       "min                        0.000000e+00   \n",
       "25%                        0.000000e+00   \n",
       "50%                        0.000000e+00   \n",
       "75%                        0.000000e+00   \n",
       "max                        1.382000e+02   \n",
       "\n",
       "       PRESSAO ATMOSFERICA AO NIVEL DA ESTACAO, HORARIA (mB)  \\\n",
       "count                                       6.834496e+07       \n",
       "mean                                        9.652714e+02       \n",
       "std                                         3.801370e+01       \n",
       "min                                         7.201000e+02       \n",
       "25%                                         9.398000e+02       \n",
       "50%                                         9.699000e+02       \n",
       "75%                                         9.972000e+02       \n",
       "max                                         1.050000e+03       \n",
       "\n",
       "       RADIACAO GLOBAL (KJ/m²)  TEMPERATURA DO AR - BULBO SECO, HORARIA (°C)  \\\n",
       "count             5.893942e+07                                  6.830099e+07   \n",
       "mean              9.550622e+02                                  2.340275e+01   \n",
       "std               1.881459e+03                                  5.638449e+00   \n",
       "min               0.000000e+00                                 -5.140000e+01   \n",
       "25%               0.000000e+00                                  2.010000e+01   \n",
       "50%               2.052000e+02                                  2.360000e+01   \n",
       "75%               1.688000e+03                                  2.710000e+01   \n",
       "max               5.158800e+04                                  4.500000e+01   \n",
       "\n",
       "       TEMPERATURA DO PONTO DE ORVALHO (°C)  \\\n",
       "count                          6.722028e+07   \n",
       "mean                           1.717906e+01   \n",
       "std                            4.872242e+00   \n",
       "min                           -5.900000e+01   \n",
       "25%                            1.430000e+01   \n",
       "50%                            1.800000e+01   \n",
       "75%                            2.090000e+01   \n",
       "max                            4.500000e+01   \n",
       "\n",
       "       UMIDADE RELATIVA DO AR, HORARIA (%)  VENTO, VELOCIDADE HORARIA (m/s)  \n",
       "count                         6.728064e+07                     6.715238e+07  \n",
       "mean                          7.187551e+01                     1.999525e+00  \n",
       "std                           2.167405e+01                     1.697745e+00  \n",
       "min                           4.000000e+00                     0.000000e+00  \n",
       "25%                           5.800000e+01                     7.000000e-01  \n",
       "50%                           7.600000e+01                     1.700000e+00  \n",
       "75%                           8.900000e+01                     2.900000e+00  \n",
       "max                           9.900000e+02                     4.340000e+01  "
      ]
     },
     "execution_count": 22,
     "metadata": {},
     "output_type": "execute_result"
    }
   ],
   "source": [
    "df.describe()"
   ]
  },
  {
   "cell_type": "code",
   "execution_count": 23,
   "metadata": {},
   "outputs": [
    {
     "data": {
      "text/plain": [
       "PRECIPITAÇÃO TOTAL, HORÁRIO (mm)                           0.000000\n",
       "PRESSAO ATMOSFERICA AO NIVEL DA ESTACAO, HORARIA (mB)    720.099976\n",
       "RADIACAO GLOBAL (KJ/m²)                                    0.000000\n",
       "TEMPERATURA DO AR - BULBO SECO, HORARIA (°C)             -51.400002\n",
       "TEMPERATURA DO PONTO DE ORVALHO (°C)                     -59.000000\n",
       "UMIDADE RELATIVA DO AR, HORARIA (%)                        4.000000\n",
       "VENTO, VELOCIDADE HORARIA (m/s)                            0.000000\n",
       "dtype: float64"
      ]
     },
     "execution_count": 23,
     "metadata": {},
     "output_type": "execute_result"
    }
   ],
   "source": [
    "df.min()"
   ]
  },
  {
   "cell_type": "markdown",
   "metadata": {},
   "source": [
    "# Lidando com nulos em cada coluna - Step 3"
   ]
  },
  {
   "cell_type": "code",
   "execution_count": 26,
   "metadata": {},
   "outputs": [
    {
     "name": "stdout",
     "output_type": "stream",
     "text": [
      "Nulls Count (%)\n",
      "========================\n",
      "\n",
      "PRECIPITAÇÃO TOTAL, HORÁRIO (mm): 2.85%\n",
      "PRESSAO ATMOSFERICA AO NIVEL DA ESTACAO, HORARIA (mB): 0.13%\n",
      "RADIACAO GLOBAL (KJ/m²): 13.87%\n",
      "TEMPERATURA DO AR - BULBO SECO, HORARIA (°C): 0.19%\n",
      "TEMPERATURA DO PONTO DE ORVALHO (°C): 1.77%\n",
      "UMIDADE RELATIVA DO AR, HORARIA (%): 1.68%\n",
      "VENTO, VELOCIDADE HORARIA (m/s): 1.87%\n"
     ]
    }
   ],
   "source": [
    "print(\"Nulls Count (%)\\n========================\\n\")\n",
    "for col in df.columns:\n",
    "   print(f\"{col}: {(df[col].isnull().sum()/df.shape[0] * 100):.2f}%\")"
   ]
  },
  {
   "cell_type": "code",
   "execution_count": 27,
   "metadata": {},
   "outputs": [],
   "source": [
    "columns_to_fill = [\n",
    "    \"PRECIPITAÇÃO TOTAL, HORÁRIO (mm)\",\n",
    "    \"PRESSAO ATMOSFERICA AO NIVEL DA ESTACAO, HORARIA (mB)\",\n",
    "    \"TEMPERATURA DO AR - BULBO SECO, HORARIA (°C)\",\n",
    "    \"TEMPERATURA DO PONTO DE ORVALHO (°C)\",\n",
    "    \"UMIDADE RELATIVA DO AR, HORARIA (%)\",\n",
    "    \"VENTO, VELOCIDADE HORARIA (m/s)\"\n",
    "]\n",
    "df[columns_to_fill] = df[columns_to_fill].fillna(df[columns_to_fill].mean())\n",
    "\n",
    "df[\"RADIACAO GLOBAL (KJ/m²)\"] = df[\"RADIACAO GLOBAL (KJ/m²)\"].fillna(0)\n"
   ]
  },
  {
   "cell_type": "code",
   "execution_count": 28,
   "metadata": {},
   "outputs": [
    {
     "name": "stdout",
     "output_type": "stream",
     "text": [
      "Nulls Count (%)\n",
      "========================\n",
      "\n",
      "PRECIPITAÇÃO TOTAL, HORÁRIO (mm): 0.00%\n",
      "PRESSAO ATMOSFERICA AO NIVEL DA ESTACAO, HORARIA (mB): 0.00%\n",
      "RADIACAO GLOBAL (KJ/m²): 0.00%\n",
      "TEMPERATURA DO AR - BULBO SECO, HORARIA (°C): 0.00%\n",
      "TEMPERATURA DO PONTO DE ORVALHO (°C): 0.00%\n",
      "UMIDADE RELATIVA DO AR, HORARIA (%): 0.00%\n",
      "VENTO, VELOCIDADE HORARIA (m/s): 0.00%\n"
     ]
    }
   ],
   "source": [
    "print(\"Nulls Count (%)\\n========================\\n\")\n",
    "for col in df.columns:\n",
    "   print(f\"{col}: {(df[col].isnull().sum()/df.shape[0] * 100):.2f}%\")"
   ]
  },
  {
   "cell_type": "markdown",
   "metadata": {},
   "source": [
    "# Removendo Duplicatas - Step 4"
   ]
  },
  {
   "cell_type": "code",
   "execution_count": 32,
   "metadata": {},
   "outputs": [],
   "source": [
    "df = df.drop_duplicates(subset=required_columns)"
   ]
  },
  {
   "cell_type": "markdown",
   "metadata": {},
   "source": [
    "# Investigando outliers e outras inconsistencias- Step 5"
   ]
  },
  {
   "cell_type": "code",
   "execution_count": 28,
   "metadata": {},
   "outputs": [
    {
     "name": "stdout",
     "output_type": "stream",
     "text": [
      "Negative Count (%)\n",
      "========================\n",
      "\n",
      "PRECIPITAÇÃO TOTAL, HORÁRIO (mm): 0.00%\n",
      "PRESSAO ATMOSFERICA AO NIVEL DA ESTACAO, HORARIA (mB): 0.00%\n",
      "RADIACAO GLOBAL (KJ/m²): 0.00%\n",
      "TEMPERATURA DO AR - BULBO SECO, HORARIA (°C): 0.02%\n",
      "TEMPERATURA DO PONTO DE ORVALHO (°C): 0.27%\n",
      "UMIDADE RELATIVA DO AR, HORARIA (%): 0.00%\n",
      "VENTO, VELOCIDADE HORARIA (m/s): 0.00%\n"
     ]
    }
   ],
   "source": [
    "print(\"Negative Count (%)\\n========================\\n\")\n",
    "for col in df.columns:\n",
    "   print(f\"{col}: {((df[col] < 0).sum()/df.shape[0] * 100):.2f}%\")"
   ]
  },
  {
   "cell_type": "code",
   "execution_count": 61,
   "metadata": {},
   "outputs": [
    {
     "data": {
      "text/plain": [
       "PRECIPITAÇÃO TOTAL, HORÁRIO (mm)                           0.0\n",
       "PRESSAO ATMOSFERICA AO NIVEL DA ESTACAO, HORARIA (mB)    720.1\n",
       "RADIACAO GLOBAL (KJ/m²)                                    0.0\n",
       "TEMPERATURA DO AR - BULBO SECO, HORARIA (°C)             -51.4\n",
       "TEMPERATURA DO PONTO DE ORVALHO (°C)                     -59.0\n",
       "UMIDADE RELATIVA DO AR, HORARIA (%)                        4.0\n",
       "VENTO, VELOCIDADE HORARIA (m/s)                            0.0\n",
       "dtype: float64"
      ]
     },
     "execution_count": 61,
     "metadata": {},
     "output_type": "execute_result"
    }
   ],
   "source": [
    "df.min()"
   ]
  },
  {
   "cell_type": "code",
   "execution_count": 35,
   "metadata": {},
   "outputs": [
    {
     "data": {
      "text/plain": [
       "PRECIPITAÇÃO TOTAL, HORÁRIO (mm)                           138.199997\n",
       "PRESSAO ATMOSFERICA AO NIVEL DA ESTACAO, HORARIA (mB)     1050.000000\n",
       "RADIACAO GLOBAL (KJ/m²)                                  51588.000000\n",
       "TEMPERATURA DO AR - BULBO SECO, HORARIA (°C)                45.000000\n",
       "TEMPERATURA DO PONTO DE ORVALHO (°C)                        45.000000\n",
       "UMIDADE RELATIVA DO AR, HORARIA (%)                        990.000000\n",
       "VENTO, VELOCIDADE HORARIA (m/s)                             43.400002\n",
       "dtype: float64"
      ]
     },
     "execution_count": 35,
     "metadata": {},
     "output_type": "execute_result"
    }
   ],
   "source": [
    "df.max()"
   ]
  },
  {
   "cell_type": "code",
   "execution_count": 36,
   "metadata": {},
   "outputs": [
    {
     "data": {
      "text/plain": [
       "PRECIPITAÇÃO TOTAL, HORÁRIO (mm)                           0.211568\n",
       "PRESSAO ATMOSFERICA AO NIVEL DA ESTACAO, HORARIA (mB)    964.718689\n",
       "RADIACAO GLOBAL (KJ/m²)                                  847.815226\n",
       "TEMPERATURA DO AR - BULBO SECO, HORARIA (°C)              23.430500\n",
       "TEMPERATURA DO PONTO DE ORVALHO (°C)                      17.080732\n",
       "UMIDADE RELATIVA DO AR, HORARIA (%)                       71.360672\n",
       "VENTO, VELOCIDADE HORARIA (m/s)                            2.046949\n",
       "dtype: float64"
      ]
     },
     "execution_count": 36,
     "metadata": {},
     "output_type": "execute_result"
    }
   ],
   "source": [
    "df.mean()"
   ]
  },
  {
   "cell_type": "markdown",
   "metadata": {},
   "source": [
    "### TEMPERATURA DO AR - BULBO SECO, HORARIA (°C)\n",
    "\n",
    "Temperatura de Bulbo Seco é a temperatura medida por um termômetro. Grosseiramente, é a temperatura média que vemos no dia a dia.\n",
    "\n",
    "Ela pode sim ter valores negativos mas até qual valor é aceitável? Pesquisando sobre as menores temperaturas registradas no brasil, encontrei uma nóticia do CNN informando que a menor já registrada foi de -14.8°C. Dessa forma, um filtro será aplicado para excluir temperaturas menores que -15°C.\n",
    "\n",
    "https://www.cnnbrasil.com.br/nacional/temperatura-chega-a-14-8-c-no-parque-nacional-do-itatiaia-no-rio-de-janeiro/"
   ]
  },
  {
   "cell_type": "code",
   "execution_count": 4,
   "metadata": {},
   "outputs": [
    {
     "data": {
      "text/plain": [
       "(array([  330.,  1178.,  1541.,  1186.,   524.,   720.,   878.,   792.,\n",
       "          295., 13723.]),\n",
       " array([-51.4 , -46.27, -41.14, -36.01, -30.88, -25.75, -20.62, -15.49,\n",
       "        -10.36,  -5.23,  -0.1 ]),\n",
       " <BarContainer object of 10 artists>)"
      ]
     },
     "execution_count": 4,
     "metadata": {},
     "output_type": "execute_result"
    },
    {
     "data": {
      "image/png": "[encoded data removed]",
      "text/plain": [
       "<Figure size 640x480 with 1 Axes>"
      ]
     },
     "metadata": {},
     "output_type": "display_data"
    }
   ],
   "source": [
    "plt.hist(x=df[df['TEMPERATURA DO AR - BULBO SECO, HORARIA (°C)'] < 0]['TEMPERATURA DO AR - BULBO SECO, HORARIA (°C)'])"
   ]
  },
  {
   "cell_type": "code",
   "execution_count": 5,
   "metadata": {},
   "outputs": [
    {
     "data": {
      "text/plain": [
       "(array([1.3210000e+03, 2.7130000e+03, 1.1670000e+03, 1.7110000e+03,\n",
       "        1.7060000e+03, 3.3887500e+05, 6.1331820e+06, 3.7475256e+07,\n",
       "        2.1789265e+07, 6.4926900e+05]),\n",
       " array([-51.4 , -41.76, -32.12, -22.48, -12.84,  -3.2 ,   6.44,  16.08,\n",
       "         25.72,  35.36,  45.  ]),\n",
       " <BarContainer object of 10 artists>)"
      ]
     },
     "execution_count": 5,
     "metadata": {},
     "output_type": "execute_result"
    },
    {
     "data": {
      "image/png": "[encoded data removed]",
      "text/plain": [
       "<Figure size 640x480 with 1 Axes>"
      ]
     },
     "metadata": {},
     "output_type": "display_data"
    }
   ],
   "source": [
    "plt.hist(x=df['TEMPERATURA DO AR - BULBO SECO, HORARIA (°C)'])"
   ]
  },
  {
   "cell_type": "code",
   "execution_count": 30,
   "metadata": {},
   "outputs": [],
   "source": [
    "df = df[df[\"TEMPERATURA DO AR - BULBO SECO, HORARIA (°C)\"] >= -15]"
   ]
  },
  {
   "cell_type": "code",
   "execution_count": 25,
   "metadata": {},
   "outputs": [
    {
     "data": {
      "text/plain": [
       "(array([ 340.,  204.,  120.,   48.,   54.,   98.,  286., 1109., 3390.,\n",
       "        9044.]),\n",
       " array([-15.        , -13.51000023, -12.02000046, -10.52999973,\n",
       "         -9.03999996,  -7.55000019,  -6.05999947,  -4.56999969,\n",
       "         -3.07999992,  -1.59000015,  -0.1       ]),\n",
       " <BarContainer object of 10 artists>)"
      ]
     },
     "execution_count": 25,
     "metadata": {},
     "output_type": "execute_result"
    },
    {
     "data": {
      "image/png": "[encoded data removed]",
      "text/plain": [
       "<Figure size 640x480 with 1 Axes>"
      ]
     },
     "metadata": {},
     "output_type": "display_data"
    }
   ],
   "source": [
    "plt.hist(x=df[df['TEMPERATURA DO AR - BULBO SECO, HORARIA (°C)'] < 0]['TEMPERATURA DO AR - BULBO SECO, HORARIA (°C)'])"
   ]
  },
  {
   "cell_type": "markdown",
   "metadata": {},
   "source": [
    "### TEMPERATURA DO PONTO DE ORVALHO (°C) \n",
    "\n",
    "O ponto de orvalho faz referência à temperatura em que o vapor de água gasosa começa a condensar na forma de orvalho ou geada.\n",
    "O ponto de orvalho pode sim ter valores negativos \"grandes\", sendo menos comum mas ainda sim é possível. Como a proporção de valores negativos com relação ao total é apenas 0.27%, eles serão mantidos no dataset."
   ]
  },
  {
   "cell_type": "code",
   "execution_count": 26,
   "metadata": {},
   "outputs": [
    {
     "data": {
      "text/plain": [
       "(array([4.10000e+01, 6.74000e+02, 3.88000e+03, 2.68100e+03, 1.58400e+03,\n",
       "        1.66700e+03, 1.99100e+03, 6.89600e+03, 2.60310e+04, 1.34557e+05]),\n",
       " array([-42.5       , -38.25999832, -34.02000046, -29.77999878,\n",
       "        -25.53999901, -21.29999924, -17.05999756, -12.81999779,\n",
       "         -8.57999802,  -4.33999634,  -0.1       ]),\n",
       " <BarContainer object of 10 artists>)"
      ]
     },
     "execution_count": 26,
     "metadata": {},
     "output_type": "execute_result"
    },
    {
     "data": {
      "image/png": "[encoded data removed]",
      "text/plain": [
       "<Figure size 640x480 with 1 Axes>"
      ]
     },
     "metadata": {},
     "output_type": "display_data"
    }
   ],
   "source": [
    "plt.hist(x=df[df['TEMPERATURA DO PONTO DE ORVALHO (°C)'] < 0]['TEMPERATURA DO PONTO DE ORVALHO (°C)'])"
   ]
  },
  {
   "cell_type": "code",
   "execution_count": 27,
   "metadata": {},
   "outputs": [
    {
     "data": {
      "text/plain": [
       "(array([8.7300000e+02, 6.6460000e+03, 3.3280000e+03, 1.2677000e+04,\n",
       "        2.6719600e+05, 5.5616740e+06, 3.2367920e+07, 2.8132648e+07,\n",
       "        3.3896000e+04, 1.1330000e+03]),\n",
       " array([-42.5 , -33.75, -25.  , -16.25,  -7.5 ,   1.25,  10.  ,  18.75,\n",
       "         27.5 ,  36.25,  45.  ]),\n",
       " <BarContainer object of 10 artists>)"
      ]
     },
     "execution_count": 27,
     "metadata": {},
     "output_type": "execute_result"
    },
    {
     "data": {
      "image/png": "[encoded data removed]",
      "text/plain": [
       "<Figure size 640x480 with 1 Axes>"
      ]
     },
     "metadata": {},
     "output_type": "display_data"
    }
   ],
   "source": [
    "plt.hist(x=df['TEMPERATURA DO PONTO DE ORVALHO (°C)'])"
   ]
  },
  {
   "cell_type": "markdown",
   "metadata": {},
   "source": [
    "### Umidade relativa do ar\n",
    "\n",
    "Este campo deveria ter valores entre 0 e 100 visto que se trata de uma porcentagem relativa ao ar.\n",
    "\n",
    "Como apenas 0.01% desses dados possuem valores inconsistentes, será feita a exclusão deles."
   ]
  },
  {
   "cell_type": "code",
   "execution_count": 29,
   "metadata": {},
   "outputs": [
    {
     "name": "stdout",
     "output_type": "stream",
     "text": [
      "UMIDADE RELATIVA DO AR, HORARIA (%): 0.01%\n"
     ]
    }
   ],
   "source": [
    "print(f\"{'UMIDADE RELATIVA DO AR, HORARIA (%)'}: {((df['UMIDADE RELATIVA DO AR, HORARIA (%)'] > 100).sum()/df.shape[0] * 100):.2f}%\")"
   ]
  },
  {
   "cell_type": "code",
   "execution_count": 30,
   "metadata": {},
   "outputs": [
    {
     "data": {
      "text/plain": [
       "(array([6.6379293e+07, 1.0100000e+02, 3.3300000e+02, 4.0900000e+02,\n",
       "        4.7200000e+02, 6.9300000e+02, 9.9000000e+02, 1.2800000e+03,\n",
       "        1.8980000e+03, 2.5220000e+03]),\n",
       " array([  4.        , 102.59999847, 201.19999695, 299.79998779,\n",
       "        398.3999939 , 497.        , 595.59997559, 694.20001221,\n",
       "        792.79998779, 891.39996338, 990.        ]),\n",
       " <BarContainer object of 10 artists>)"
      ]
     },
     "execution_count": 30,
     "metadata": {},
     "output_type": "execute_result"
    },
    {
     "data": {
      "image/png": "[encoded data removed]",
      "text/plain": [
       "<Figure size 640x480 with 1 Axes>"
      ]
     },
     "metadata": {},
     "output_type": "display_data"
    }
   ],
   "source": [
    "plt.hist(x=df['UMIDADE RELATIVA DO AR, HORARIA (%)'])"
   ]
  },
  {
   "cell_type": "code",
   "execution_count": 31,
   "metadata": {},
   "outputs": [],
   "source": [
    "df = df[df[\"UMIDADE RELATIVA DO AR, HORARIA (%)\"] <= 100]"
   ]
  },
  {
   "cell_type": "markdown",
   "metadata": {},
   "source": [
    "### VENTO, VELOCIDADE HORARIA (m/s)\n",
    "\n",
    "A velocidade do vento não apresenta nenhum valor exorbitante que necessite algum tipo de tratameto. Tendo _0 m/s_ como mínimo e aproximadamente _43 m/s_ como máximo. Por mais que seja um valor alto se compararmos com o padrão, é um valor que representa a realidade e como o objetivo do programa é realizar uma previsão do tempo, esses valores altos (mas não irreais) serão mantidos."
   ]
  },
  {
   "cell_type": "code",
   "execution_count": 32,
   "metadata": {},
   "outputs": [
    {
     "data": {
      "text/plain": [
       "(array([6.0247477e+07, 5.8758350e+06, 2.2965700e+05, 2.2639000e+04,\n",
       "        3.3070000e+03, 3.3100000e+02, 4.0000000e+01, 0.0000000e+00,\n",
       "        6.0000000e+00, 1.0000000e+00]),\n",
       " array([ 0.        ,  4.34000015,  8.68000031, 13.02000046, 17.36000061,\n",
       "        21.70000076, 26.04000092, 30.38000107, 34.72000122, 39.06000137,\n",
       "        43.40000153]),\n",
       " <BarContainer object of 10 artists>)"
      ]
     },
     "execution_count": 32,
     "metadata": {},
     "output_type": "execute_result"
    },
    {
     "data": {
      "image/png": "[encoded data removed]",
      "text/plain": [
       "<Figure size 640x480 with 1 Axes>"
      ]
     },
     "metadata": {},
     "output_type": "display_data"
    }
   ],
   "source": [
    "plt.hist(x=df['VENTO, VELOCIDADE HORARIA (m/s)'])"
   ]
  },
  {
   "cell_type": "code",
   "execution_count": 34,
   "metadata": {},
   "outputs": [
    {
     "name": "stdout",
     "output_type": "stream",
     "text": [
      "MIN: 0.0\n",
      "MAX: 43.400001525878906\n",
      "MEAN: 2.0463671684265137\n"
     ]
    }
   ],
   "source": [
    "print(f\"MIN: {df['VENTO, VELOCIDADE HORARIA (m/s)'].min()}\\nMAX: {df['VENTO, VELOCIDADE HORARIA (m/s)'].max()}\\nMEAN: {df['VENTO, VELOCIDADE HORARIA (m/s)'].mean()}\")"
   ]
  },
  {
   "cell_type": "code",
   "execution_count": 35,
   "metadata": {},
   "outputs": [
    {
     "name": "stdout",
     "output_type": "stream",
     "text": [
      "VENTO, VELOCIDADE HORARIA (m/s): 56.98%\n"
     ]
    }
   ],
   "source": [
    "print(f\"{'VENTO, VELOCIDADE HORARIA (m/s)'}: {((df['VENTO, VELOCIDADE HORARIA (m/s)'] < df['VENTO, VELOCIDADE HORARIA (m/s)'].mean()).sum()/df.shape[0] * 100):.2f}%\")"
   ]
  },
  {
   "cell_type": "code",
   "execution_count": 36,
   "metadata": {},
   "outputs": [
    {
     "name": "stdout",
     "output_type": "stream",
     "text": [
      "VENTO, VELOCIDADE HORARIA (m/s): 10.44%\n"
     ]
    }
   ],
   "source": [
    "print(f\"{'VENTO, VELOCIDADE HORARIA (m/s)'}: {((df['VENTO, VELOCIDADE HORARIA (m/s)'] == 0).sum()/df.shape[0] * 100):.2f}%\")"
   ]
  },
  {
   "cell_type": "markdown",
   "metadata": {},
   "source": [
    "### RADIACAO GLOBAL (KJ/m²)\n",
    "\n",
    "Como não foi encontrado nenhuma fonte indicando os valores normais para o a radiação global, será feito um filtro excluindo os valores acima e abaixo do desvio padrão. Lembrando que as linhas que possuem valor igual a 0 são aquelas que não possuem marcação, excluir elas acarretaria exlucir aproximadamente 44% do dataset.\n",
    "\n",
    "A solução escolhida (pode mudar de acordo com o resultado do treinamento dos modelos) é excluir apenas os valores acima do desvio padrão. Caso o referido campo se mostre irrelevante ou prejudicial para o modelo, ele será removido.\n",
    "\n",
    "Inicialmente será utilizada a regra empírica para identificar e excluir os valores desviados."
   ]
  },
  {
   "cell_type": "code",
   "execution_count": 26,
   "metadata": {},
   "outputs": [
    {
     "name": "stdout",
     "output_type": "stream",
     "text": [
      "Min: 0.0\n",
      "Max: 51588.0\n",
      "Mean: 1532.896036229097\n"
     ]
    }
   ],
   "source": [
    "print(f\"Min: {df['RADIACAO GLOBAL (KJ/m²)'].min()}\")\n",
    "print(f\"Max: {df['RADIACAO GLOBAL (KJ/m²)'].max()}\")\n",
    "print(f\"Mean: {df[df['RADIACAO GLOBAL (KJ/m²)']!=0]['RADIACAO GLOBAL (KJ/m²)'].mean()}\")"
   ]
  },
  {
   "cell_type": "code",
   "execution_count": 40,
   "metadata": {},
   "outputs": [
    {
     "data": {
      "text/plain": [
       "(array([3.6463698e+07, 4.3015000e+04, 3.4419000e+04, 3.5825000e+04,\n",
       "        3.4986000e+04, 3.4495000e+04, 2.9428000e+04, 1.9128000e+04,\n",
       "        9.0710000e+03, 3.5200000e+02]),\n",
       " array([1.000000e-01, 5.158890e+03, 1.031768e+04, 1.547647e+04,\n",
       "        2.063526e+04, 2.579405e+04, 3.095284e+04, 3.611163e+04,\n",
       "        4.127042e+04, 4.642921e+04, 5.158800e+04]),\n",
       " <BarContainer object of 10 artists>)"
      ]
     },
     "execution_count": 40,
     "metadata": {},
     "output_type": "execute_result"
    },
    {
     "data": {
      "image/png": "[encoded data removed]",
      "text/plain": [
       "<Figure size 640x480 with 1 Axes>"
      ]
     },
     "metadata": {},
     "output_type": "display_data"
    }
   ],
   "source": [
    "plt.hist(x=df[df[\"RADIACAO GLOBAL (KJ/m²)\"] != 0][\"RADIACAO GLOBAL (KJ/m²)\"])"
   ]
  },
  {
   "cell_type": "code",
   "execution_count": 18,
   "metadata": {},
   "outputs": [
    {
     "name": "stdout",
     "output_type": "stream",
     "text": [
      "Count 0: 44.71 %\n"
     ]
    }
   ],
   "source": [
    "print(f\"Count 0: {(len(df[df['RADIACAO GLOBAL (KJ/m²)'] == 0]['RADIACAO GLOBAL (KJ/m²)'])/len(df['RADIACAO GLOBAL (KJ/m²)']) * 100):.2f} %\")\n"
   ]
  },
  {
   "cell_type": "code",
   "execution_count": 24,
   "metadata": {},
   "outputs": [
    {
     "name": "stdout",
     "output_type": "stream",
     "text": [
      "Count 0: 33.20 %\n"
     ]
    }
   ],
   "source": [
    "print(f\"Count 0: {((len(df[df['RADIACAO GLOBAL (KJ/m²)'] > df['RADIACAO GLOBAL (KJ/m²)'].mean()])/len(df['RADIACAO GLOBAL (KJ/m²)'])) * 100):.2f} %\")\n"
   ]
  },
  {
   "cell_type": "code",
   "execution_count": 3,
   "metadata": {},
   "outputs": [
    {
     "name": "stdout",
     "output_type": "stream",
     "text": [
      "Limite Inferior: -5036.985183270351\n",
      "LimiteSuperior: 8103.560715996376\n"
     ]
    }
   ],
   "source": [
    "mean = df[df['RADIACAO GLOBAL (KJ/m²)'] != 0]['RADIACAO GLOBAL (KJ/m²)'].mean()\n",
    "desvio_padrao = df[df['RADIACAO GLOBAL (KJ/m²)'] != 0]['RADIACAO GLOBAL (KJ/m²)'].std()\n",
    "\n",
    "limite_inferior = mean - 3 * desvio_padrao\n",
    "limite_superior = mean + 3 * desvio_padrao\n",
    "print(f\"Limite Inferior: {limite_inferior}\\nLimite Superior: {limite_superior}\")\n"
   ]
  },
  {
   "cell_type": "code",
   "execution_count": 4,
   "metadata": {},
   "outputs": [],
   "source": [
    "df = df[(df['RADIACAO GLOBAL (KJ/m²)'] < limite_superior)]\n"
   ]
  },
  {
   "cell_type": "code",
   "execution_count": 5,
   "metadata": {},
   "outputs": [
    {
     "name": "stdout",
     "output_type": "stream",
     "text": [
      "Min: 0.0\n",
      "Max: 8103.0\n",
      "Mean: 1400.5576387966241\n"
     ]
    }
   ],
   "source": [
    "print(f\"Min: {df['RADIACAO GLOBAL (KJ/m²)'].min()}\")\n",
    "print(f\"Max: {df['RADIACAO GLOBAL (KJ/m²)'].max()}\")\n",
    "print(f\"Mean: {df[df['RADIACAO GLOBAL (KJ/m²)']!=0]['RADIACAO GLOBAL (KJ/m²)'].mean()}\")"
   ]
  },
  {
   "cell_type": "markdown",
   "metadata": {},
   "source": [
    "### PRESSAO ATMOSFERICA AO NIVEL DA ESTACAO, HORARIA (mB)\n",
    "\n",
    "https://fisica.ufpr.br/grimm/aposmeteo/cap4/cap4-6.html#:~:text=Usa%2Dse%20ainda%20a%20uni,970%20mb%20at%C3%A9%201050%20mb.\n",
    "\n",
    "Segundo site da UFPR, a medida usual esta situada entre _970 mb_ e _1050 mb_."
   ]
  },
  {
   "cell_type": "code",
   "execution_count": 6,
   "metadata": {},
   "outputs": [
    {
     "name": "stdout",
     "output_type": "stream",
     "text": [
      "Min: 720.1\n",
      "Max: 1050.0\n",
      "Mean: 964.6737238868848\n"
     ]
    }
   ],
   "source": [
    "print(f\"Min: {df['PRESSAO ATMOSFERICA AO NIVEL DA ESTACAO, HORARIA (mB)'].min()}\")\n",
    "print(f\"Max: {df['PRESSAO ATMOSFERICA AO NIVEL DA ESTACAO, HORARIA (mB)'].max()}\")\n",
    "print(f\"Mean: {df['PRESSAO ATMOSFERICA AO NIVEL DA ESTACAO, HORARIA (mB)'].mean()}\")"
   ]
  },
  {
   "cell_type": "code",
   "execution_count": 13,
   "metadata": {},
   "outputs": [
    {
     "data": {
      "text/plain": [
       "(array([9.3550000e+03, 2.3640000e+04, 3.4823000e+04, 5.4790000e+05,\n",
       "        1.3757000e+06, 6.6153670e+06, 1.2839540e+07, 2.0625171e+07,\n",
       "        2.2617153e+07, 1.4903190e+06]),\n",
       " array([ 720.1 ,  753.09,  786.08,  819.07,  852.06,  885.05,  918.04,\n",
       "         951.03,  984.02, 1017.01, 1050.  ]),\n",
       " <BarContainer object of 10 artists>)"
      ]
     },
     "execution_count": 13,
     "metadata": {},
     "output_type": "execute_result"
    },
    {
     "data": {
      "image/png": "[encoded data removed]",
      "text/plain": [
       "<Figure size 640x480 with 1 Axes>"
      ]
     },
     "metadata": {},
     "output_type": "display_data"
    }
   ],
   "source": [
    "plt.hist(x=df['PRESSAO ATMOSFERICA AO NIVEL DA ESTACAO, HORARIA (mB)'])"
   ]
  },
  {
   "cell_type": "code",
   "execution_count": 10,
   "metadata": {},
   "outputs": [
    {
     "name": "stdout",
     "output_type": "stream",
     "text": [
      "Valores dentro do intervalo usual segundo a UFPR(%): 48.99781755436259 %\n"
     ]
    }
   ],
   "source": [
    "print(f\"Valores dentro do intervalo usual segundo a UFPR(%): {len(df[(df['PRESSAO ATMOSFERICA AO NIVEL DA ESTACAO, HORARIA (mB)'] > 970) & (df['PRESSAO ATMOSFERICA AO NIVEL DA ESTACAO, HORARIA (mB)'] < 1050)])/len(df['PRESSAO ATMOSFERICA AO NIVEL DA ESTACAO, HORARIA (mB)']) * 100} %\")"
   ]
  },
  {
   "cell_type": "code",
   "execution_count": 11,
   "metadata": {},
   "outputs": [
    {
     "name": "stdout",
     "output_type": "stream",
     "text": [
      "Limite Inferior: 850.2888192553207\n",
      "Limite Superior: 1079.0586285184488\n"
     ]
    }
   ],
   "source": [
    "mean = df['PRESSAO ATMOSFERICA AO NIVEL DA ESTACAO, HORARIA (mB)'].mean()\n",
    "desvio_padrao = df['PRESSAO ATMOSFERICA AO NIVEL DA ESTACAO, HORARIA (mB)'].std()\n",
    "\n",
    "limite_inferior = mean - 3 * desvio_padrao\n",
    "limite_superior = mean + 3 * desvio_padrao\n",
    "\n",
    "print(f\"Limite Inferior: {limite_inferior}\\nLimite Superior: {limite_superior}\")"
   ]
  },
  {
   "cell_type": "code",
   "execution_count": 12,
   "metadata": {},
   "outputs": [
    {
     "name": "stdout",
     "output_type": "stream",
     "text": [
      "Valores dentro do interval definido pela regra empirica(%): 99.11715758396232 %\n"
     ]
    }
   ],
   "source": [
    "print(f\"Valores dentro do interval definido pela regra empirica - limite 3(%): {len(df[(df['PRESSAO ATMOSFERICA AO NIVEL DA ESTACAO, HORARIA (mB)'] > limite_inferior) & (df['PRESSAO ATMOSFERICA AO NIVEL DA ESTACAO, HORARIA (mB)'] < limite_superior)])/len(df['PRESSAO ATMOSFERICA AO NIVEL DA ESTACAO, HORARIA (mB)']) * 100} %\")"
   ]
  },
  {
   "cell_type": "code",
   "execution_count": 14,
   "metadata": {},
   "outputs": [
    {
     "name": "stdout",
     "output_type": "stream",
     "text": [
      "Limite Inferior: 888.4171207991754\n",
      "Limite Superior: 1040.9303269745942\n"
     ]
    }
   ],
   "source": [
    "mean = df['PRESSAO ATMOSFERICA AO NIVEL DA ESTACAO, HORARIA (mB)'].mean()\n",
    "desvio_padrao = df['PRESSAO ATMOSFERICA AO NIVEL DA ESTACAO, HORARIA (mB)'].std()\n",
    "\n",
    "limite_inferior = mean - 2 * desvio_padrao\n",
    "limite_superior = mean + 2 * desvio_padrao\n",
    "\n",
    "print(f\"Limite Inferior: {limite_inferior}\\nLimite Superior: {limite_superior}\")"
   ]
  },
  {
   "cell_type": "code",
   "execution_count": 15,
   "metadata": {},
   "outputs": [
    {
     "name": "stdout",
     "output_type": "stream",
     "text": [
      "Valores dentro do interval definido pela regra empirica - limite 3(%): 96.53294986407161 %\n"
     ]
    }
   ],
   "source": [
    "print(f\"Valores dentro do interval definido pela regra empirica - limite 3(%): {len(df[(df['PRESSAO ATMOSFERICA AO NIVEL DA ESTACAO, HORARIA (mB)'] > limite_inferior) & (df['PRESSAO ATMOSFERICA AO NIVEL DA ESTACAO, HORARIA (mB)'] < limite_superior)])/len(df['PRESSAO ATMOSFERICA AO NIVEL DA ESTACAO, HORARIA (mB)']) * 100} %\")"
   ]
  },
  {
   "cell_type": "markdown",
   "metadata": {},
   "source": [
    "Ao utilizar as medidas apresentadas pela UFPR seriam exlcuidas aproximadamente 50% do dataset, dessa forma será utilizado o mesmo recurso de avaliação usado para medir os outliers na radiação global.\n",
    "\n",
    "Ao compararmos os limites da regra empirica aos limites 3 e 2, percebemos que não há um grande desvio da média. Dessa forma, utilizaremos o limite 2 pois se aproxima mais do valor imposto pela UFPR."
   ]
  },
  {
   "cell_type": "code",
   "execution_count": 16,
   "metadata": {},
   "outputs": [],
   "source": [
    "df = df[(df['PRESSAO ATMOSFERICA AO NIVEL DA ESTACAO, HORARIA (mB)'] > limite_inferior) & (df['PRESSAO ATMOSFERICA AO NIVEL DA ESTACAO, HORARIA (mB)'] < limite_superior)]\n"
   ]
  },
  {
   "cell_type": "markdown",
   "metadata": {},
   "source": [
    "### PRECIPITAÇÃO TOTAL, HORÁRIO (mm)\n",
    "\n",
    "https://g1.globo.com/sp/santos-regiao/noticia/2024/05/18/vitimas-de-cidade-atingida-por-volume-de-chuva-recorde-no-pais-relembram-a-tragedia-confira-o-ranking-historico.ghtml\n",
    "\n",
    "Como não os valores máximo e minimo não fogem da realidade, não será feito tratamento nos dados de precipitação. No artigo acima, feito pelo G1, mostra um ranking histórico dos níveis de precipitação em território brasileiro"
   ]
  },
  {
   "cell_type": "code",
   "execution_count": 17,
   "metadata": {},
   "outputs": [
    {
     "name": "stdout",
     "output_type": "stream",
     "text": [
      "Min: 0.0\n",
      "Max: 138.2\n",
      "Mean: 0.2114769520012323\n"
     ]
    }
   ],
   "source": [
    "print(f\"Min: {df['PRECIPITAÇÃO TOTAL, HORÁRIO (mm)'].min()}\")\n",
    "print(f\"Max: {df['PRECIPITAÇÃO TOTAL, HORÁRIO (mm)'].max()}\")\n",
    "print(f\"Mean: {df['PRECIPITAÇÃO TOTAL, HORÁRIO (mm)'].mean()}\")"
   ]
  },
  {
   "cell_type": "code",
   "execution_count": 18,
   "metadata": {},
   "outputs": [
    {
     "data": {
      "text/plain": [
       "(array([6.3765689e+07, 9.5187000e+04, 1.8296000e+04, 4.1100000e+03,\n",
       "        9.3500000e+02, 2.3400000e+02, 5.0000000e+01, 6.0000000e+00,\n",
       "        1.0000000e+00, 2.0000000e+00]),\n",
       " array([  0.  ,  13.82,  27.64,  41.46,  55.28,  69.1 ,  82.92,  96.74,\n",
       "        110.56, 124.38, 138.2 ]),\n",
       " <BarContainer object of 10 artists>)"
      ]
     },
     "execution_count": 18,
     "metadata": {},
     "output_type": "execute_result"
    },
    {
     "data": {
      "image/png": "[encoded data removed]",
      "text/plain": [
       "<Figure size 640x480 with 1 Axes>"
      ]
     },
     "metadata": {},
     "output_type": "display_data"
    }
   ],
   "source": [
    "plt.hist(x=df['PRECIPITAÇÃO TOTAL, HORÁRIO (mm)'])"
   ]
  },
  {
   "cell_type": "code",
   "execution_count": 19,
   "metadata": {},
   "outputs": [
    {
     "data": {
      "text/plain": [
       "(array([7.7806e+04, 1.7727e+04, 4.7690e+03, 1.2010e+03, 3.6900e+02,\n",
       "        1.0300e+02, 1.8000e+01, 1.0000e+00, 1.0000e+00, 2.0000e+00]),\n",
       " array([ 15.2,  27.5,  39.8,  52.1,  64.4,  76.7,  89. , 101.3, 113.6,\n",
       "        125.9, 138.2]),\n",
       " <BarContainer object of 10 artists>)"
      ]
     },
     "execution_count": 19,
     "metadata": {},
     "output_type": "execute_result"
    },
    {
     "data": {
      "image/png": "[encoded data removed]",
      "text/plain": [
       "<Figure size 640x480 with 1 Axes>"
      ]
     },
     "metadata": {},
     "output_type": "display_data"
    }
   ],
   "source": [
    "plt.hist(x=df[df['PRECIPITAÇÃO TOTAL, HORÁRIO (mm)'] >15]['PRECIPITAÇÃO TOTAL, HORÁRIO (mm)'])"
   ]
  },
  {
   "cell_type": "markdown",
   "metadata": {},
   "source": [
    "# Reanálise com os dados tratados"
   ]
  },
  {
   "cell_type": "code",
   "execution_count": 4,
   "metadata": {},
   "outputs": [
    {
     "data": {
      "image/png": "[encoded data removed]",
      "text/plain": [
       "<Figure size 1000x800 with 2 Axes>"
      ]
     },
     "metadata": {},
     "output_type": "display_data"
    }
   ],
   "source": [
    "# Calcular correlação de Pearson\n",
    "correlacao = df.corr()\n",
    "\n",
    "# Exibir matriz de correlaçoã como heatmap\n",
    "plt.figure(figsize=(10, 8))\n",
    "sns.heatmap(correlacao, annot=True, cmap=\"coolwarm\", fmt=\".2f\")\n",
    "plt.title(\"Matriz de Correlação\")\n",
    "plt.show()"
   ]
  },
  {
   "cell_type": "code",
   "execution_count": 5,
   "metadata": {},
   "outputs": [
    {
     "data": {
      "text/html": [
       "<div>\n",
       "<style scoped>\n",
       "    .dataframe tbody tr th:only-of-type {\n",
       "        vertical-align: middle;\n",
       "    }\n",
       "\n",
       "    .dataframe tbody tr th {\n",
       "        vertical-align: top;\n",
       "    }\n",
       "\n",
       "    .dataframe thead th {\n",
       "        text-align: right;\n",
       "    }\n",
       "</style>\n",
       "<table border=\"1\" class=\"dataframe\">\n",
       "  <thead>\n",
       "    <tr style=\"text-align: right;\">\n",
       "      <th></th>\n",
       "      <th>PRECIPITAÇÃO TOTAL, HORÁRIO (mm)</th>\n",
       "      <th>PRESSAO ATMOSFERICA AO NIVEL DA ESTACAO, HORARIA (mB)</th>\n",
       "      <th>RADIACAO GLOBAL (KJ/m²)</th>\n",
       "      <th>TEMPERATURA DO AR - BULBO SECO, HORARIA (°C)</th>\n",
       "      <th>TEMPERATURA DO PONTO DE ORVALHO (°C)</th>\n",
       "      <th>UMIDADE RELATIVA DO AR, HORARIA (%)</th>\n",
       "      <th>VENTO, VELOCIDADE HORARIA (m/s)</th>\n",
       "    </tr>\n",
       "  </thead>\n",
       "  <tbody>\n",
       "    <tr>\n",
       "      <th>count</th>\n",
       "      <td>6.388451e+07</td>\n",
       "      <td>6.388451e+07</td>\n",
       "      <td>6.388451e+07</td>\n",
       "      <td>6.388451e+07</td>\n",
       "      <td>6.388451e+07</td>\n",
       "      <td>6.388451e+07</td>\n",
       "      <td>6.388451e+07</td>\n",
       "    </tr>\n",
       "    <tr>\n",
       "      <th>mean</th>\n",
       "      <td>2.114770e-01</td>\n",
       "      <td>9.682570e+02</td>\n",
       "      <td>7.747691e+02</td>\n",
       "      <td>2.364237e+01</td>\n",
       "      <td>1.725063e+01</td>\n",
       "      <td>7.124879e+01</td>\n",
       "      <td>2.014551e+00</td>\n",
       "    </tr>\n",
       "    <tr>\n",
       "      <th>std</th>\n",
       "      <td>1.310534e+00</td>\n",
       "      <td>3.336538e+01</td>\n",
       "      <td>1.087354e+03</td>\n",
       "      <td>5.548358e+00</td>\n",
       "      <td>4.702304e+00</td>\n",
       "      <td>2.160848e+01</td>\n",
       "      <td>1.635529e+00</td>\n",
       "    </tr>\n",
       "    <tr>\n",
       "      <th>min</th>\n",
       "      <td>0.000000e+00</td>\n",
       "      <td>8.885000e+02</td>\n",
       "      <td>0.000000e+00</td>\n",
       "      <td>-9.800000e+00</td>\n",
       "      <td>-1.580000e+01</td>\n",
       "      <td>7.000000e+00</td>\n",
       "      <td>0.000000e+00</td>\n",
       "    </tr>\n",
       "    <tr>\n",
       "      <th>25%</th>\n",
       "      <td>0.000000e+00</td>\n",
       "      <td>9.436000e+02</td>\n",
       "      <td>0.000000e+00</td>\n",
       "      <td>2.030000e+01</td>\n",
       "      <td>1.450000e+01</td>\n",
       "      <td>5.800000e+01</td>\n",
       "      <td>8.000000e-01</td>\n",
       "    </tr>\n",
       "    <tr>\n",
       "      <th>50%</th>\n",
       "      <td>0.000000e+00</td>\n",
       "      <td>9.709000e+02</td>\n",
       "      <td>4.090000e+01</td>\n",
       "      <td>2.370000e+01</td>\n",
       "      <td>1.800000e+01</td>\n",
       "      <td>7.400000e+01</td>\n",
       "      <td>1.800000e+00</td>\n",
       "    </tr>\n",
       "    <tr>\n",
       "      <th>75%</th>\n",
       "      <td>0.000000e+00</td>\n",
       "      <td>9.974000e+02</td>\n",
       "      <td>1.458900e+03</td>\n",
       "      <td>2.730000e+01</td>\n",
       "      <td>2.080000e+01</td>\n",
       "      <td>8.800000e+01</td>\n",
       "      <td>2.900000e+00</td>\n",
       "    </tr>\n",
       "    <tr>\n",
       "      <th>max</th>\n",
       "      <td>1.382000e+02</td>\n",
       "      <td>1.040900e+03</td>\n",
       "      <td>8.103000e+03</td>\n",
       "      <td>4.500000e+01</td>\n",
       "      <td>4.500000e+01</td>\n",
       "      <td>9.900000e+02</td>\n",
       "      <td>3.830000e+01</td>\n",
       "    </tr>\n",
       "  </tbody>\n",
       "</table>\n",
       "</div>"
      ],
      "text/plain": [
       "       PRECIPITAÇÃO TOTAL, HORÁRIO (mm)  \\\n",
       "count                      6.388451e+07   \n",
       "mean                       2.114770e-01   \n",
       "std                        1.310534e+00   \n",
       "min                        0.000000e+00   \n",
       "25%                        0.000000e+00   \n",
       "50%                        0.000000e+00   \n",
       "75%                        0.000000e+00   \n",
       "max                        1.382000e+02   \n",
       "\n",
       "       PRESSAO ATMOSFERICA AO NIVEL DA ESTACAO, HORARIA (mB)  \\\n",
       "count                                       6.388451e+07       \n",
       "mean                                        9.682570e+02       \n",
       "std                                         3.336538e+01       \n",
       "min                                         8.885000e+02       \n",
       "25%                                         9.436000e+02       \n",
       "50%                                         9.709000e+02       \n",
       "75%                                         9.974000e+02       \n",
       "max                                         1.040900e+03       \n",
       "\n",
       "       RADIACAO GLOBAL (KJ/m²)  TEMPERATURA DO AR - BULBO SECO, HORARIA (°C)  \\\n",
       "count             6.388451e+07                                  6.388451e+07   \n",
       "mean              7.747691e+02                                  2.364237e+01   \n",
       "std               1.087354e+03                                  5.548358e+00   \n",
       "min               0.000000e+00                                 -9.800000e+00   \n",
       "25%               0.000000e+00                                  2.030000e+01   \n",
       "50%               4.090000e+01                                  2.370000e+01   \n",
       "75%               1.458900e+03                                  2.730000e+01   \n",
       "max               8.103000e+03                                  4.500000e+01   \n",
       "\n",
       "       TEMPERATURA DO PONTO DE ORVALHO (°C)  \\\n",
       "count                          6.388451e+07   \n",
       "mean                           1.725063e+01   \n",
       "std                            4.702304e+00   \n",
       "min                           -1.580000e+01   \n",
       "25%                            1.450000e+01   \n",
       "50%                            1.800000e+01   \n",
       "75%                            2.080000e+01   \n",
       "max                            4.500000e+01   \n",
       "\n",
       "       UMIDADE RELATIVA DO AR, HORARIA (%)  VENTO, VELOCIDADE HORARIA (m/s)  \n",
       "count                         6.388451e+07                     6.388451e+07  \n",
       "mean                          7.124879e+01                     2.014551e+00  \n",
       "std                           2.160848e+01                     1.635529e+00  \n",
       "min                           7.000000e+00                     0.000000e+00  \n",
       "25%                           5.800000e+01                     8.000000e-01  \n",
       "50%                           7.400000e+01                     1.800000e+00  \n",
       "75%                           8.800000e+01                     2.900000e+00  \n",
       "max                           9.900000e+02                     3.830000e+01  "
      ]
     },
     "execution_count": 5,
     "metadata": {},
     "output_type": "execute_result"
    }
   ],
   "source": [
    "df.describe()"
   ]
  },
  {
   "cell_type": "markdown",
   "metadata": {},
   "source": [
    "# Salvando os dados"
   ]
  },
  {
   "cell_type": "code",
   "execution_count": null,
   "metadata": {},
   "outputs": [],
   "source": [
    "df.to_csv(\"./output/results/raw_df.csv\", index=False)"
   ]
  },
  {
   "cell_type": "code",
   "execution_count": 16,
   "metadata": {},
   "outputs": [],
   "source": [
    "step_1_df = df.copy()\n",
    "step_1_df.to_csv(\"./output/results/step_1_df.csv\", index=False)\n",
    "step_1_df = 0"
   ]
  },
  {
   "cell_type": "code",
   "execution_count": 24,
   "metadata": {},
   "outputs": [],
   "source": [
    "step_2_df = df.copy()\n",
    "step_2_df.to_csv(\"./output/results/step_2_df.csv\", index=False)\n",
    "step_2_df = 0"
   ]
  },
  {
   "cell_type": "code",
   "execution_count": 31,
   "metadata": {},
   "outputs": [],
   "source": [
    "step_3_df = df.copy()\n",
    "step_3_df.to_csv(\"./output/results/step_3_df.csv\", index=False)\n",
    "step_3_df = 0"
   ]
  },
  {
   "cell_type": "code",
   "execution_count": 33,
   "metadata": {},
   "outputs": [],
   "source": [
    "step_4_df = df.copy()\n",
    "step_4_df.to_csv(\"./output/results/step_4_df.csv\", index=False)\n",
    "step_4_df = 0"
   ]
  },
  {
   "cell_type": "code",
   "execution_count": 20,
   "metadata": {},
   "outputs": [],
   "source": [
    "step_5_df = df.copy()\n",
    "step_5_df.to_csv(\"./output/results/step_5_df.csv\", index=False)\n",
    "step_5_df = 0"
   ]
  },
  {
   "cell_type": "markdown",
   "metadata": {},
   "source": [
    "# Carregando dados\n",
    "\n",
    "Parte do código utilizada como suporte no desenvolvimento, usada apenas para carregar os dados disponíveis a parte de certo ponto das transformações"
   ]
  },
  {
   "cell_type": "code",
   "execution_count": 2,
   "metadata": {},
   "outputs": [],
   "source": [
    "df = pd.read_csv(\"./output/results/raw_df.csv\")"
   ]
  },
  {
   "cell_type": "code",
   "execution_count": null,
   "metadata": {},
   "outputs": [],
   "source": [
    "df = pd.read_csv(\"./output/results/step_1_df.csv\")"
   ]
  },
  {
   "cell_type": "code",
   "execution_count": null,
   "metadata": {},
   "outputs": [],
   "source": [
    "df = pd.read_csv(\"./output/results/step_2_df.csv\")"
   ]
  },
  {
   "cell_type": "code",
   "execution_count": null,
   "metadata": {},
   "outputs": [],
   "source": [
    "df = pd.read_csv(\"./output/results/step_3_df.csv\")"
   ]
  },
  {
   "cell_type": "code",
   "execution_count": 2,
   "metadata": {},
   "outputs": [],
   "source": [
    "df = pd.read_csv(\"./output/results/step_4_df.csv\")"
   ]
  },
  {
   "cell_type": "code",
   "execution_count": 3,
   "metadata": {},
   "outputs": [],
   "source": [
    "df = pd.read_csv(\"./output/results/step_5_df.csv\")"
   ]
  },
  {
   "cell_type": "markdown",
   "metadata": {},
   "source": [
    "# Deletando variáveis da memória\n",
    "\n",
    "Parte do código voltada para a exclusão de variáveis da memória, este controle foi feito visualmente pela interface de variáveis do Jupyter. Este código não deve ser considerado visto que serve apenas de suporte na hora do desenvolvimento"
   ]
  },
  {
   "cell_type": "code",
   "execution_count": 83,
   "metadata": {},
   "outputs": [
    {
     "ename": "NameError",
     "evalue": "name 'age' is not defined",
     "output_type": "error",
     "traceback": [
      "\u001b[1;31m---------------------------------------------------------------------------\u001b[0m",
      "\u001b[1;31mNameError\u001b[0m                                 Traceback (most recent call last)",
      "Cell \u001b[1;32mIn[83], line 2\u001b[0m\n\u001b[0;32m      1\u001b[0m \u001b[38;5;28;01mdel\u001b[39;00m data_path\n\u001b[1;32m----> 2\u001b[0m \u001b[38;5;28;01mdel\u001b[39;00m \u001b[43mage\u001b[49m\n\u001b[0;32m      3\u001b[0m \u001b[38;5;28;01mdel\u001b[39;00m age_size\n\u001b[0;32m      4\u001b[0m \u001b[38;5;28;01mdel\u001b[39;00m age_size_list\n",
      "\u001b[1;31mNameError\u001b[0m: name 'age' is not defined"
     ]
    }
   ],
   "source": [
    "del data_path\n",
    "del age\n",
    "del age_size\n",
    "del age_size_list\n",
    "del ages_list\n",
    "del col\n",
    "del columns\n",
    "del columns_to_fill\n",
    "del df_negative\n",
    "del file\n",
    "del files\n",
    "del filtered_null_df\n",
    "del IQR\n",
    "del mean\n",
    "del mean_pos_ponto_or8888888valho\n",
    "del mean_pos_precipitacao\n",
    "del mean_pos_pressao\n",
    "del mean_pos_temperatura_bulbo\n",
    "del mean_pos_umidade\n",
    "del mean_pos_vento\n",
    "del outliers\n",
    "del Q1\n",
    "del Q3\n",
    "del read_size\n",
    "del required_columns\n",
    "del size\n",
    "del std\n",
    "del step_2_df\n",
    "del step_3_df\n",
    "del step_4_df\n",
    "del total_size\n",
    "\n",
    "gc.collect()\n"
   ]
  }
 ],
 "metadata": {
  "kernelspec": {
   "display_name": "Estudos",
   "language": "python",
   "name": "python3"
  },
  "language_info": {
   "codemirror_mode": {
    "name": "ipython",
    "version": 3
   },
   "file_extension": ".py",
   "mimetype": "text/x-python",
   "name": "python",
   "nbconvert_exporter": "python",
   "pygments_lexer": "ipython3",
   "version": "3.11.10"
  }
 },
 "nbformat": 4,
 "nbformat_minor": 2
}
