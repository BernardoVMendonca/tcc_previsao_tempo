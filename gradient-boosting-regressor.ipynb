{
 "cells": [
  {
   "cell_type": "code",
   "execution_count": 13,
   "metadata": {
    "execution": {
     "iopub.execute_input": "2025-01-14T02:48:16.412153Z",
     "iopub.status.busy": "2025-01-14T02:48:16.411707Z",
     "iopub.status.idle": "2025-01-14T02:48:16.418827Z",
     "shell.execute_reply": "2025-01-14T02:48:16.417451Z",
     "shell.execute_reply.started": "2025-01-14T02:48:16.412122Z"
    },
    "trusted": true
   },
   "outputs": [],
   "source": [
    "from sklearn.ensemble import GradientBoostingRegressor\n",
    "from sklearn.model_selection import train_test_split\n",
    "from sklearn.metrics import mean_squared_error, r2_score\n",
    "from sklearn.preprocessing import StandardScaler\n",
    "\n",
    "import pandas as pd\n",
    "import numpy as np"
   ]
  },
  {
   "cell_type": "code",
   "execution_count": 5,
   "metadata": {
    "execution": {
     "iopub.execute_input": "2025-01-14T00:15:34.217086Z",
     "iopub.status.busy": "2025-01-14T00:15:34.216685Z",
     "iopub.status.idle": "2025-01-14T00:15:34.222274Z",
     "shell.execute_reply": "2025-01-14T00:15:34.221061Z",
     "shell.execute_reply.started": "2025-01-14T00:15:34.217053Z"
    },
    "trusted": true
   },
   "outputs": [],
   "source": [
    "features_columns = [\n",
    "    \"PRESSAO ATMOSFERICA AO NIVEL DA ESTACAO, HORARIA (mB)\",\n",
    "    \"RADIACAO GLOBAL (KJ/m²)\",\n",
    "    \"TEMPERATURA DO AR - BULBO SECO, HORARIA (°C)\",\n",
    "    \"TEMPERATURA DO PONTO DE ORVALHO (°C)\",\n",
    "    \"UMIDADE RELATIVA DO AR, HORARIA (%)\",\n",
    "    \"VENTO, VELOCIDADE HORARIA (m/s)\"\n",
    "]\n",
    "\n",
    "target_column = [\"PRECIPITAÇÃO TOTAL, HORÁRIO (mm)\"]"
   ]
  },
  {
   "cell_type": "code",
   "execution_count": 6,
   "metadata": {
    "execution": {
     "iopub.execute_input": "2025-01-14T00:16:01.827854Z",
     "iopub.status.busy": "2025-01-14T00:16:01.827473Z",
     "iopub.status.idle": "2025-01-14T00:17:03.488758Z",
     "shell.execute_reply": "2025-01-14T00:17:03.487633Z",
     "shell.execute_reply.started": "2025-01-14T00:16:01.827823Z"
    },
    "trusted": true
   },
   "outputs": [],
   "source": [
    "X = pd.read_csv(\"/kaggle/input/training-dataset-random-forest/step_5_df.csv\", usecols=features_columns)\n",
    "y = pd.read_csv(\"/kaggle/input/training-dataset-random-forest/step_5_df.csv\", usecols=target_column)"
   ]
  },
  {
   "cell_type": "code",
   "execution_count": 7,
   "metadata": {
    "execution": {
     "iopub.execute_input": "2025-01-14T00:18:45.835113Z",
     "iopub.status.busy": "2025-01-14T00:18:45.834696Z",
     "iopub.status.idle": "2025-01-14T00:18:50.968419Z",
     "shell.execute_reply": "2025-01-14T00:18:50.967236Z",
     "shell.execute_reply.started": "2025-01-14T00:18:45.835083Z"
    },
    "trusted": true
   },
   "outputs": [],
   "source": [
    "scaler = StandardScaler()\n",
    "X_scaled = scaler.fit_transform(X)"
   ]
  },
  {
   "cell_type": "code",
   "execution_count": 8,
   "metadata": {
    "execution": {
     "iopub.execute_input": "2025-01-14T00:18:54.235481Z",
     "iopub.status.busy": "2025-01-14T00:18:54.235085Z",
     "iopub.status.idle": "2025-01-14T00:19:07.788246Z",
     "shell.execute_reply": "2025-01-14T00:19:07.787044Z",
     "shell.execute_reply.started": "2025-01-14T00:18:54.235449Z"
    },
    "trusted": true
   },
   "outputs": [],
   "source": [
    "X_train, X_test, y_train, y_test = train_test_split(X_scaled, y, test_size=0.3, random_state=42)"
   ]
  },
  {
   "cell_type": "code",
   "execution_count": 11,
   "metadata": {
    "execution": {
     "iopub.execute_input": "2025-01-14T00:20:49.053192Z",
     "iopub.status.busy": "2025-01-14T00:20:49.052809Z",
     "iopub.status.idle": "2025-01-14T02:43:07.972054Z",
     "shell.execute_reply": "2025-01-14T02:43:07.968379Z",
     "shell.execute_reply.started": "2025-01-14T00:20:49.053160Z"
    },
    "trusted": true
   },
   "outputs": [
    {
     "name": "stdout",
     "output_type": "stream",
     "text": [
      "      Iter       Train Loss   Remaining Time \n",
      "         1           1.7020          147.17m\n",
      "         2           1.6884          141.93m\n",
      "         3           1.6773          139.12m\n",
      "         4           1.6678          137.22m\n",
      "         5           1.6604          135.09m\n",
      "         6           1.6533          133.51m\n",
      "         7           1.6475          132.02m\n",
      "         8           1.6423          130.50m\n",
      "         9           1.6379          129.10m\n",
      "        10           1.6341          127.61m\n",
      "        11           1.6309          126.09m\n",
      "        12           1.6279          124.69m\n",
      "        13           1.6254          123.12m\n",
      "        14           1.6232          121.77m\n",
      "        15           1.6212          120.42m\n",
      "        16           1.6194          118.99m\n",
      "        17           1.6177          117.52m\n",
      "        18           1.6163          116.07m\n",
      "        19           1.6149          114.64m\n",
      "        20           1.6138          113.21m\n",
      "        21           1.6126          111.75m\n",
      "        22           1.6115          110.30m\n",
      "        23           1.6105          108.79m\n",
      "        24           1.6095          107.36m\n",
      "        25           1.6086          105.93m\n",
      "        26           1.6077          104.55m\n",
      "        27           1.6067          103.04m\n",
      "        28           1.6060          101.60m\n",
      "        29           1.6051          100.18m\n",
      "        30           1.6043           98.77m\n",
      "        31           1.6036           97.34m\n",
      "        32           1.6029           95.94m\n",
      "        33           1.6023           94.52m\n",
      "        34           1.6018           93.10m\n",
      "        35           1.6012           91.69m\n",
      "        36           1.6007           90.29m\n",
      "        37           1.6000           88.87m\n",
      "        38           1.5996           87.44m\n",
      "        39           1.5993           86.03m\n",
      "        40           1.5989           84.70m\n",
      "        41           1.5986           83.34m\n",
      "        42           1.5981           81.89m\n",
      "        43           1.5977           80.48m\n",
      "        44           1.5973           79.04m\n",
      "        45           1.5971           77.66m\n",
      "        46           1.5966           76.26m\n",
      "        47           1.5962           74.87m\n",
      "        48           1.5960           73.47m\n",
      "        49           1.5958           72.08m\n",
      "        50           1.5954           70.68m\n",
      "        51           1.5950           69.29m\n",
      "        52           1.5947           67.88m\n",
      "        53           1.5945           66.49m\n",
      "        54           1.5943           65.08m\n",
      "        55           1.5941           63.67m\n",
      "        56           1.5940           62.27m\n",
      "        57           1.5938           60.88m\n",
      "        58           1.5936           59.46m\n",
      "        59           1.5934           58.05m\n",
      "        60           1.5931           56.66m\n",
      "        61           1.5927           55.24m\n",
      "        62           1.5926           53.84m\n",
      "        63           1.5925           52.44m\n",
      "        64           1.5924           51.02m\n",
      "        65           1.5922           49.61m\n",
      "        66           1.5920           48.18m\n",
      "        67           1.5917           46.77m\n",
      "        68           1.5916           45.36m\n",
      "        69           1.5913           43.94m\n",
      "        70           1.5913           42.52m\n",
      "        71           1.5910           41.10m\n",
      "        72           1.5908           39.68m\n",
      "        73           1.5906           38.26m\n",
      "        74           1.5905           36.85m\n",
      "        75           1.5904           35.44m\n",
      "        76           1.5903           34.02m\n",
      "        77           1.5902           32.64m\n",
      "        78           1.5901           31.22m\n",
      "        79           1.5901           29.81m\n",
      "        80           1.5898           28.38m\n",
      "        81           1.5896           26.97m\n",
      "        82           1.5894           25.55m\n",
      "        83           1.5892           24.13m\n",
      "        84           1.5891           22.71m\n",
      "        85           1.5890           21.30m\n",
      "        86           1.5890           19.88m\n",
      "        87           1.5889           18.45m\n",
      "        88           1.5887           17.03m\n",
      "        89           1.5886           15.61m\n",
      "        90           1.5885           14.19m\n",
      "        91           1.5884           12.77m\n",
      "        92           1.5884           11.35m\n",
      "        93           1.5883            9.94m\n",
      "        94           1.5882            8.53m\n",
      "        95           1.5882            7.11m\n",
      "        96           1.5881            5.69m\n",
      "        97           1.5881            4.27m\n",
      "        98           1.5879            2.84m\n",
      "        99           1.5878            1.42m\n",
      "       100           1.5877            0.00s\n"
     ]
    },
    {
     "data": {
      "text/html": [
       "<style>#sk-container-id-1 {color: black;background-color: white;}#sk-container-id-1 pre{padding: 0;}#sk-container-id-1 div.sk-toggleable {background-color: white;}#sk-container-id-1 label.sk-toggleable__label {cursor: pointer;display: block;width: 100%;margin-bottom: 0;padding: 0.3em;box-sizing: border-box;text-align: center;}#sk-container-id-1 label.sk-toggleable__label-arrow:before {content: \"▸\";float: left;margin-right: 0.25em;color: #696969;}#sk-container-id-1 label.sk-toggleable__label-arrow:hover:before {color: black;}#sk-container-id-1 div.sk-estimator:hover label.sk-toggleable__label-arrow:before {color: black;}#sk-container-id-1 div.sk-toggleable__content {max-height: 0;max-width: 0;overflow: hidden;text-align: left;background-color: #f0f8ff;}#sk-container-id-1 div.sk-toggleable__content pre {margin: 0.2em;color: black;border-radius: 0.25em;background-color: #f0f8ff;}#sk-container-id-1 input.sk-toggleable__control:checked~div.sk-toggleable__content {max-height: 200px;max-width: 100%;overflow: auto;}#sk-container-id-1 input.sk-toggleable__control:checked~label.sk-toggleable__label-arrow:before {content: \"▾\";}#sk-container-id-1 div.sk-estimator input.sk-toggleable__control:checked~label.sk-toggleable__label {background-color: #d4ebff;}#sk-container-id-1 div.sk-label input.sk-toggleable__control:checked~label.sk-toggleable__label {background-color: #d4ebff;}#sk-container-id-1 input.sk-hidden--visually {border: 0;clip: rect(1px 1px 1px 1px);clip: rect(1px, 1px, 1px, 1px);height: 1px;margin: -1px;overflow: hidden;padding: 0;position: absolute;width: 1px;}#sk-container-id-1 div.sk-estimator {font-family: monospace;background-color: #f0f8ff;border: 1px dotted black;border-radius: 0.25em;box-sizing: border-box;margin-bottom: 0.5em;}#sk-container-id-1 div.sk-estimator:hover {background-color: #d4ebff;}#sk-container-id-1 div.sk-parallel-item::after {content: \"\";width: 100%;border-bottom: 1px solid gray;flex-grow: 1;}#sk-container-id-1 div.sk-label:hover label.sk-toggleable__label {background-color: #d4ebff;}#sk-container-id-1 div.sk-serial::before {content: \"\";position: absolute;border-left: 1px solid gray;box-sizing: border-box;top: 0;bottom: 0;left: 50%;z-index: 0;}#sk-container-id-1 div.sk-serial {display: flex;flex-direction: column;align-items: center;background-color: white;padding-right: 0.2em;padding-left: 0.2em;position: relative;}#sk-container-id-1 div.sk-item {position: relative;z-index: 1;}#sk-container-id-1 div.sk-parallel {display: flex;align-items: stretch;justify-content: center;background-color: white;position: relative;}#sk-container-id-1 div.sk-item::before, #sk-container-id-1 div.sk-parallel-item::before {content: \"\";position: absolute;border-left: 1px solid gray;box-sizing: border-box;top: 0;bottom: 0;left: 50%;z-index: -1;}#sk-container-id-1 div.sk-parallel-item {display: flex;flex-direction: column;z-index: 1;position: relative;background-color: white;}#sk-container-id-1 div.sk-parallel-item:first-child::after {align-self: flex-end;width: 50%;}#sk-container-id-1 div.sk-parallel-item:last-child::after {align-self: flex-start;width: 50%;}#sk-container-id-1 div.sk-parallel-item:only-child::after {width: 0;}#sk-container-id-1 div.sk-dashed-wrapped {border: 1px dashed gray;margin: 0 0.4em 0.5em 0.4em;box-sizing: border-box;padding-bottom: 0.4em;background-color: white;}#sk-container-id-1 div.sk-label label {font-family: monospace;font-weight: bold;display: inline-block;line-height: 1.2em;}#sk-container-id-1 div.sk-label-container {text-align: center;}#sk-container-id-1 div.sk-container {/* jupyter's `normalize.less` sets `[hidden] { display: none; }` but bootstrap.min.css set `[hidden] { display: none !important; }` so we also need the `!important` here to be able to override the default hidden behavior on the sphinx rendered scikit-learn.org. See: https://github.com/scikit-learn/scikit-learn/issues/21755 */display: inline-block !important;position: relative;}#sk-container-id-1 div.sk-text-repr-fallback {display: none;}</style><div id=\"sk-container-id-1\" class=\"sk-top-container\"><div class=\"sk-text-repr-fallback\"><pre>GradientBoostingRegressor(random_state=42, verbose=2)</pre><b>In a Jupyter environment, please rerun this cell to show the HTML representation or trust the notebook. <br />On GitHub, the HTML representation is unable to render, please try loading this page with nbviewer.org.</b></div><div class=\"sk-container\" hidden><div class=\"sk-item\"><div class=\"sk-estimator sk-toggleable\"><input class=\"sk-toggleable__control sk-hidden--visually\" id=\"sk-estimator-id-1\" type=\"checkbox\" checked><label for=\"sk-estimator-id-1\" class=\"sk-toggleable__label sk-toggleable__label-arrow\">GradientBoostingRegressor</label><div class=\"sk-toggleable__content\"><pre>GradientBoostingRegressor(random_state=42, verbose=2)</pre></div></div></div></div></div>"
      ],
      "text/plain": [
       "GradientBoostingRegressor(random_state=42, verbose=2)"
      ]
     },
     "execution_count": 11,
     "metadata": {},
     "output_type": "execute_result"
    }
   ],
   "source": [
    "gbr = GradientBoostingRegressor(\n",
    "    n_estimators=100,    # Número de árvores (boosting iterations)\n",
    "    learning_rate=0.1,   # Taxa de aprendizado\n",
    "    max_depth=3,         # Profundidade máxima de cada árvore\n",
    "    random_state=42,\n",
    "\n",
    "    verbose=2,\n",
    "    loss=\"squared_error\"\n",
    ")\n",
    "\n",
    "gbr.fit(X_train, y_train.values.ravel())"
   ]
  },
  {
   "cell_type": "code",
   "execution_count": 15,
   "metadata": {
    "execution": {
     "iopub.execute_input": "2025-01-14T02:49:05.352294Z",
     "iopub.status.busy": "2025-01-14T02:49:05.351927Z",
     "iopub.status.idle": "2025-01-14T02:49:39.119641Z",
     "shell.execute_reply": "2025-01-14T02:49:39.118616Z",
     "shell.execute_reply.started": "2025-01-14T02:49:05.352267Z"
    },
    "trusted": true
   },
   "outputs": [
    {
     "name": "stdout",
     "output_type": "stream",
     "text": [
      "MSE: 1.59\n",
      "R²: 0.08\n",
      "RMSE: 1.26\n"
     ]
    }
   ],
   "source": [
    "y_pred = gbr.predict(X_test)\n",
    "\n",
    "mse = mean_squared_error(y_test, y_pred)\n",
    "r2 = r2_score(y_test, y_pred)\n",
    "\n",
    "print(f\"MSE: {mse:.2f}\")\n",
    "print(f\"R²: {r2:.2f}\")\n",
    "print(f\"RMSE: {np.sqrt(mse):.2f}\")"
   ]
  }
 ],
 "metadata": {
  "kaggle": {
   "accelerator": "none",
   "dataSources": [
    {
     "datasetId": 6475553,
     "sourceId": 10462803,
     "sourceType": "datasetVersion"
    }
   ],
   "dockerImageVersionId": 30822,
   "isGpuEnabled": false,
   "isInternetEnabled": false,
   "language": "python",
   "sourceType": "notebook"
  },
  "kernelspec": {
   "display_name": "Python 3",
   "language": "python",
   "name": "python3"
  },
  "language_info": {
   "codemirror_mode": {
    "name": "ipython",
    "version": 3
   },
   "file_extension": ".py",
   "mimetype": "text/x-python",
   "name": "python",
   "nbconvert_exporter": "python",
   "pygments_lexer": "ipython3",
   "version": "3.10.12"
  }
 },
 "nbformat": 4,
 "nbformat_minor": 4
}
